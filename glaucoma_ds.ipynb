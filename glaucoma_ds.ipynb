{
 "metadata": {
  "language_info": {
   "codemirror_mode": {
    "name": "ipython",
    "version": 3
   },
   "file_extension": ".py",
   "mimetype": "text/x-python",
   "name": "python",
   "nbconvert_exporter": "python",
   "pygments_lexer": "ipython3",
   "version": 3
  },
  "orig_nbformat": 2,
  "kernelspec": {
   "name": "python_defaultSpec_1595746959611",
   "display_name": "Python 3.7.6 64-bit ('anaconda3': conda)"
  }
 },
 "nbformat": 4,
 "nbformat_minor": 2,
 "cells": [
  {
   "cell_type": "markdown",
   "metadata": {},
   "source": [
    "This notebook prepares a train and test dataframe from the following sources:\n",
    "- `DR_HAGIS_GLAUCOMA`\n",
    "- `HRF_GLAUCOMA`\n",
    "- `kaggle_ds/1_normal` and `kaggle_ds/2_glaucoma`\n",
    "- `ORIGA_GLAUCOMA`\n",
    "- `ORIGA_NORMAL`"
   ]
  },
  {
   "cell_type": "code",
   "execution_count": 1,
   "metadata": {},
   "outputs": [],
   "source": [
    "import os\n",
    "\n",
    "import pandas as pd\n",
    "import matplotlib.pyplot as plt"
   ]
  },
  {
   "cell_type": "markdown",
   "metadata": {},
   "source": [
    "## Import Drishti dataset"
   ]
  },
  {
   "cell_type": "code",
   "execution_count": 2,
   "metadata": {},
   "outputs": [
    {
     "output_type": "execute_result",
     "data": {
      "text/plain": "    Drishti-GS File  Patient ID  Marking 1  Marking 2  Marking 3  Marking 4  \\\n0    drishtiGS_001'   1077987.0       -1.0       -1.0        1.0        1.0   \n1    drishtiGS_002'   1167573.0        1.0        1.0        1.0        1.0   \n2    drishtiGS_003'   1393265.0        1.0        1.0        1.0        1.0   \n3    drishtiGS_004'   1393265.0        1.0        1.0       -1.0        1.0   \n4    drishtiGS_005'   1481925.0        1.0        1.0        1.0        1.0   \n..              ...         ...        ...        ...        ...        ...   \n100  drishtiGS_101'   2864841.0       -1.0       -1.0       -1.0       -1.0   \n101             NaN         NaN        NaN        NaN        NaN        NaN   \n102             NaN         NaN        NaN        NaN        NaN        NaN   \n103             NaN         NaN        NaN        NaN        NaN        NaN   \n104             NaN         NaN        NaN        NaN        NaN        NaN   \n\n     Additional Expert         Total  Unnamed: 8  Unnamed: 9  \n0                  1.0  Glaucomatous         NaN         NaN  \n1                  1.0  Glaucomatous         NaN         NaN  \n2                  1.0  Glaucomatous         NaN         NaN  \n3                  1.0  Glaucomatous         NaN         NaN  \n4                  1.0  Glaucomatous         NaN         NaN  \n..                 ...           ...         ...         ...  \n100               -1.0        Normal         NaN         NaN  \n101                NaN           NaN         NaN         NaN  \n102                NaN           NaN         NaN         NaN  \n103                NaN           NaN         NaN         NaN  \n104                NaN           NaN         NaN         NaN  \n\n[105 rows x 10 columns]",
      "text/html": "<div>\n<style scoped>\n    .dataframe tbody tr th:only-of-type {\n        vertical-align: middle;\n    }\n\n    .dataframe tbody tr th {\n        vertical-align: top;\n    }\n\n    .dataframe thead th {\n        text-align: right;\n    }\n</style>\n<table border=\"1\" class=\"dataframe\">\n  <thead>\n    <tr style=\"text-align: right;\">\n      <th></th>\n      <th>Drishti-GS File</th>\n      <th>Patient ID</th>\n      <th>Marking 1</th>\n      <th>Marking 2</th>\n      <th>Marking 3</th>\n      <th>Marking 4</th>\n      <th>Additional Expert</th>\n      <th>Total</th>\n      <th>Unnamed: 8</th>\n      <th>Unnamed: 9</th>\n    </tr>\n  </thead>\n  <tbody>\n    <tr>\n      <th>0</th>\n      <td>drishtiGS_001'</td>\n      <td>1077987.0</td>\n      <td>-1.0</td>\n      <td>-1.0</td>\n      <td>1.0</td>\n      <td>1.0</td>\n      <td>1.0</td>\n      <td>Glaucomatous</td>\n      <td>NaN</td>\n      <td>NaN</td>\n    </tr>\n    <tr>\n      <th>1</th>\n      <td>drishtiGS_002'</td>\n      <td>1167573.0</td>\n      <td>1.0</td>\n      <td>1.0</td>\n      <td>1.0</td>\n      <td>1.0</td>\n      <td>1.0</td>\n      <td>Glaucomatous</td>\n      <td>NaN</td>\n      <td>NaN</td>\n    </tr>\n    <tr>\n      <th>2</th>\n      <td>drishtiGS_003'</td>\n      <td>1393265.0</td>\n      <td>1.0</td>\n      <td>1.0</td>\n      <td>1.0</td>\n      <td>1.0</td>\n      <td>1.0</td>\n      <td>Glaucomatous</td>\n      <td>NaN</td>\n      <td>NaN</td>\n    </tr>\n    <tr>\n      <th>3</th>\n      <td>drishtiGS_004'</td>\n      <td>1393265.0</td>\n      <td>1.0</td>\n      <td>1.0</td>\n      <td>-1.0</td>\n      <td>1.0</td>\n      <td>1.0</td>\n      <td>Glaucomatous</td>\n      <td>NaN</td>\n      <td>NaN</td>\n    </tr>\n    <tr>\n      <th>4</th>\n      <td>drishtiGS_005'</td>\n      <td>1481925.0</td>\n      <td>1.0</td>\n      <td>1.0</td>\n      <td>1.0</td>\n      <td>1.0</td>\n      <td>1.0</td>\n      <td>Glaucomatous</td>\n      <td>NaN</td>\n      <td>NaN</td>\n    </tr>\n    <tr>\n      <th>...</th>\n      <td>...</td>\n      <td>...</td>\n      <td>...</td>\n      <td>...</td>\n      <td>...</td>\n      <td>...</td>\n      <td>...</td>\n      <td>...</td>\n      <td>...</td>\n      <td>...</td>\n    </tr>\n    <tr>\n      <th>100</th>\n      <td>drishtiGS_101'</td>\n      <td>2864841.0</td>\n      <td>-1.0</td>\n      <td>-1.0</td>\n      <td>-1.0</td>\n      <td>-1.0</td>\n      <td>-1.0</td>\n      <td>Normal</td>\n      <td>NaN</td>\n      <td>NaN</td>\n    </tr>\n    <tr>\n      <th>101</th>\n      <td>NaN</td>\n      <td>NaN</td>\n      <td>NaN</td>\n      <td>NaN</td>\n      <td>NaN</td>\n      <td>NaN</td>\n      <td>NaN</td>\n      <td>NaN</td>\n      <td>NaN</td>\n      <td>NaN</td>\n    </tr>\n    <tr>\n      <th>102</th>\n      <td>NaN</td>\n      <td>NaN</td>\n      <td>NaN</td>\n      <td>NaN</td>\n      <td>NaN</td>\n      <td>NaN</td>\n      <td>NaN</td>\n      <td>NaN</td>\n      <td>NaN</td>\n      <td>NaN</td>\n    </tr>\n    <tr>\n      <th>103</th>\n      <td>NaN</td>\n      <td>NaN</td>\n      <td>NaN</td>\n      <td>NaN</td>\n      <td>NaN</td>\n      <td>NaN</td>\n      <td>NaN</td>\n      <td>NaN</td>\n      <td>NaN</td>\n      <td>NaN</td>\n    </tr>\n    <tr>\n      <th>104</th>\n      <td>NaN</td>\n      <td>NaN</td>\n      <td>NaN</td>\n      <td>NaN</td>\n      <td>NaN</td>\n      <td>NaN</td>\n      <td>NaN</td>\n      <td>NaN</td>\n      <td>NaN</td>\n      <td>NaN</td>\n    </tr>\n  </tbody>\n</table>\n<p>105 rows × 10 columns</p>\n</div>"
     },
     "metadata": {},
     "execution_count": 2
    }
   ],
   "source": [
    "drishti = pd.read_csv('Drishti.csv')\n",
    "drishti"
   ]
  },
  {
   "cell_type": "code",
   "execution_count": 3,
   "metadata": {
    "tags": []
   },
   "outputs": [
    {
     "output_type": "execute_result",
     "data": {
      "text/plain": "             filename     label                       path\n0   drishtiGS_001.png  glaucoma  Drishti/drishtiGS_001.png\n1   drishtiGS_002.png  glaucoma  Drishti/drishtiGS_002.png\n2   drishtiGS_003.png  glaucoma  Drishti/drishtiGS_003.png\n3   drishtiGS_004.png  glaucoma  Drishti/drishtiGS_004.png\n4   drishtiGS_005.png  glaucoma  Drishti/drishtiGS_005.png\n..                ...       ...                        ...\n82  drishtiGS_083.png  glaucoma  Drishti/drishtiGS_083.png\n83  drishtiGS_084.png  glaucoma  Drishti/drishtiGS_084.png\n85  drishtiGS_086.png  glaucoma  Drishti/drishtiGS_086.png\n86  drishtiGS_087.png  glaucoma  Drishti/drishtiGS_087.png\n87  drishtiGS_088.png  glaucoma  Drishti/drishtiGS_088.png\n\n[70 rows x 3 columns]",
      "text/html": "<div>\n<style scoped>\n    .dataframe tbody tr th:only-of-type {\n        vertical-align: middle;\n    }\n\n    .dataframe tbody tr th {\n        vertical-align: top;\n    }\n\n    .dataframe thead th {\n        text-align: right;\n    }\n</style>\n<table border=\"1\" class=\"dataframe\">\n  <thead>\n    <tr style=\"text-align: right;\">\n      <th></th>\n      <th>filename</th>\n      <th>label</th>\n      <th>path</th>\n    </tr>\n  </thead>\n  <tbody>\n    <tr>\n      <th>0</th>\n      <td>drishtiGS_001.png</td>\n      <td>glaucoma</td>\n      <td>Drishti/drishtiGS_001.png</td>\n    </tr>\n    <tr>\n      <th>1</th>\n      <td>drishtiGS_002.png</td>\n      <td>glaucoma</td>\n      <td>Drishti/drishtiGS_002.png</td>\n    </tr>\n    <tr>\n      <th>2</th>\n      <td>drishtiGS_003.png</td>\n      <td>glaucoma</td>\n      <td>Drishti/drishtiGS_003.png</td>\n    </tr>\n    <tr>\n      <th>3</th>\n      <td>drishtiGS_004.png</td>\n      <td>glaucoma</td>\n      <td>Drishti/drishtiGS_004.png</td>\n    </tr>\n    <tr>\n      <th>4</th>\n      <td>drishtiGS_005.png</td>\n      <td>glaucoma</td>\n      <td>Drishti/drishtiGS_005.png</td>\n    </tr>\n    <tr>\n      <th>...</th>\n      <td>...</td>\n      <td>...</td>\n      <td>...</td>\n    </tr>\n    <tr>\n      <th>82</th>\n      <td>drishtiGS_083.png</td>\n      <td>glaucoma</td>\n      <td>Drishti/drishtiGS_083.png</td>\n    </tr>\n    <tr>\n      <th>83</th>\n      <td>drishtiGS_084.png</td>\n      <td>glaucoma</td>\n      <td>Drishti/drishtiGS_084.png</td>\n    </tr>\n    <tr>\n      <th>85</th>\n      <td>drishtiGS_086.png</td>\n      <td>glaucoma</td>\n      <td>Drishti/drishtiGS_086.png</td>\n    </tr>\n    <tr>\n      <th>86</th>\n      <td>drishtiGS_087.png</td>\n      <td>glaucoma</td>\n      <td>Drishti/drishtiGS_087.png</td>\n    </tr>\n    <tr>\n      <th>87</th>\n      <td>drishtiGS_088.png</td>\n      <td>glaucoma</td>\n      <td>Drishti/drishtiGS_088.png</td>\n    </tr>\n  </tbody>\n</table>\n<p>70 rows × 3 columns</p>\n</div>"
     },
     "metadata": {},
     "execution_count": 3
    }
   ],
   "source": [
    "drishti = drishti.loc[:, ['Drishti-GS File', 'Total']]\n",
    "drishti.columns = ['filename', 'label']\n",
    "drishti['filename'] = drishti['filename'].str[:-1] + '.png'\n",
    "drishti['path'] = 'Drishti/' + drishti['filename']\n",
    "\n",
    "drishti_glau = drishti[drishti['label'] == 'Glaucomatous']\n",
    "drishti_norm = drishti[drishti['label'] == 'Normal']\n",
    "\n",
    "drishti_glau['label'] = 'glaucoma'\n",
    "drishti_norm['label'] = 'normal'\n",
    "\n",
    "drishti_glau"
   ]
  },
  {
   "cell_type": "markdown",
   "metadata": {},
   "source": [
    "## Import RIMONE dataset (all three releases)"
   ]
  },
  {
   "cell_type": "code",
   "execution_count": 22,
   "metadata": {},
   "outputs": [
    {
     "output_type": "execute_result",
     "data": {
      "text/plain": "['RIM_ONE/Normal/Im024.bmp',\n 'RIM_ONE/Normal/Im050.bmp',\n 'RIM_ONE/Normal/Im089.bmp',\n 'RIM_ONE/Normal/Im143.bmp',\n 'RIM_ONE/Normal/Im066.bmp',\n 'RIM_ONE/Normal/Im159.bmp',\n 'RIM_ONE/Normal/Im077.bmp',\n 'RIM_ONE/Normal/Im161.bmp',\n 'RIM_ONE/Normal/Im041.bmp',\n 'RIM_ONE/Normal/Im012.bmp']"
     },
     "metadata": {},
     "execution_count": 22
    }
   ],
   "source": [
    "with open('RIMONE_glau.txt') as f:\n",
    "    rimone_glau = f.readline().rstrip().split(',')\n",
    "with open('RIMONE_norm.txt') as f:\n",
    "    rimone_norm = f.readline().rstrip().split(',')\n",
    "\n",
    "rimone_norm[:10]"
   ]
  },
  {
   "cell_type": "code",
   "execution_count": 5,
   "metadata": {},
   "outputs": [
    {
     "output_type": "execute_result",
     "data": {
      "text/plain": "        label                          path    filename\n0    glaucoma     RIMONE_r1/Early/Im017.bmp   Im017.bmp\n1    glaucoma     RIMONE_r1/Early/Im051.bmp   Im051.bmp\n2    glaucoma     RIMONE_r1/Early/Im049.bmp   Im049.bmp\n3    glaucoma     RIMONE_r1/Early/Im034.bmp   Im034.bmp\n4    glaucoma     RIMONE_r1/Early/Im009.bmp   Im009.bmp\n..        ...                           ...         ...\n291  glaucoma  RIMONE_r3_CROPPED/S-15-L.jpg  S-15-L.jpg\n292  glaucoma  RIMONE_r3_CROPPED/S-27-L.jpg  S-27-L.jpg\n293  glaucoma  RIMONE_r3_CROPPED/G-22-L.jpg  G-22-L.jpg\n294  glaucoma  RIMONE_r3_CROPPED/S-20-L.jpg  S-20-L.jpg\n295  glaucoma  RIMONE_r3_CROPPED/G-19-R.jpg  G-19-R.jpg\n\n[296 rows x 3 columns]",
      "text/html": "<div>\n<style scoped>\n    .dataframe tbody tr th:only-of-type {\n        vertical-align: middle;\n    }\n\n    .dataframe tbody tr th {\n        vertical-align: top;\n    }\n\n    .dataframe thead th {\n        text-align: right;\n    }\n</style>\n<table border=\"1\" class=\"dataframe\">\n  <thead>\n    <tr style=\"text-align: right;\">\n      <th></th>\n      <th>label</th>\n      <th>path</th>\n      <th>filename</th>\n    </tr>\n  </thead>\n  <tbody>\n    <tr>\n      <th>0</th>\n      <td>glaucoma</td>\n      <td>RIMONE_r1/Early/Im017.bmp</td>\n      <td>Im017.bmp</td>\n    </tr>\n    <tr>\n      <th>1</th>\n      <td>glaucoma</td>\n      <td>RIMONE_r1/Early/Im051.bmp</td>\n      <td>Im051.bmp</td>\n    </tr>\n    <tr>\n      <th>2</th>\n      <td>glaucoma</td>\n      <td>RIMONE_r1/Early/Im049.bmp</td>\n      <td>Im049.bmp</td>\n    </tr>\n    <tr>\n      <th>3</th>\n      <td>glaucoma</td>\n      <td>RIMONE_r1/Early/Im034.bmp</td>\n      <td>Im034.bmp</td>\n    </tr>\n    <tr>\n      <th>4</th>\n      <td>glaucoma</td>\n      <td>RIMONE_r1/Early/Im009.bmp</td>\n      <td>Im009.bmp</td>\n    </tr>\n    <tr>\n      <th>...</th>\n      <td>...</td>\n      <td>...</td>\n      <td>...</td>\n    </tr>\n    <tr>\n      <th>291</th>\n      <td>glaucoma</td>\n      <td>RIMONE_r3_CROPPED/S-15-L.jpg</td>\n      <td>S-15-L.jpg</td>\n    </tr>\n    <tr>\n      <th>292</th>\n      <td>glaucoma</td>\n      <td>RIMONE_r3_CROPPED/S-27-L.jpg</td>\n      <td>S-27-L.jpg</td>\n    </tr>\n    <tr>\n      <th>293</th>\n      <td>glaucoma</td>\n      <td>RIMONE_r3_CROPPED/G-22-L.jpg</td>\n      <td>G-22-L.jpg</td>\n    </tr>\n    <tr>\n      <th>294</th>\n      <td>glaucoma</td>\n      <td>RIMONE_r3_CROPPED/S-20-L.jpg</td>\n      <td>S-20-L.jpg</td>\n    </tr>\n    <tr>\n      <th>295</th>\n      <td>glaucoma</td>\n      <td>RIMONE_r3_CROPPED/G-19-R.jpg</td>\n      <td>G-19-R.jpg</td>\n    </tr>\n  </tbody>\n</table>\n<p>296 rows × 3 columns</p>\n</div>"
     },
     "metadata": {},
     "execution_count": 5
    }
   ],
   "source": [
    "rimone_glau_df = pd.DataFrame({'label': 'glaucoma', 'path': rimone_glau})\n",
    "rimone_norm_df = pd.DataFrame({'label': 'normal', 'path': rimone_norm})\n",
    "\n",
    "rimone_glau_df['filename'] = rimone_glau_df['path'].str.split(os.path.sep).str[-1]\n",
    "rimone_norm_df['filename'] = rimone_norm_df['path'].str.split(os.path.sep).str[-1]\n",
    "\n",
    "def update_rimone_path(path):\n",
    "    parts = path.split(os.path.sep)\n",
    "\n",
    "    dir = parts[0]\n",
    "    if   dir == 'RIM_ONE': dir = 'RIMONE_r1'\n",
    "    elif dir == 'RIM_TWO': dir = 'RIMONE_r2'\n",
    "    elif dir == 'RIM_THREE_CROPPED': dir = 'RIMONE_r3_CROPPED'\n",
    "\n",
    "    return os.path.sep.join([dir] + parts[1:])\n",
    "\n",
    "rimone_glau_df['path'] = rimone_glau_df['path'].apply(update_rimone_path)\n",
    "rimone_norm_df['path'] = rimone_norm_df['path'].apply(update_rimone_path)\n",
    "\n",
    "rimone_glau_df"
   ]
  },
  {
   "cell_type": "markdown",
   "metadata": {},
   "source": [
    "## Import HRF, DR HAGIS and ORIGA datasets"
   ]
  },
  {
   "cell_type": "code",
   "execution_count": 6,
   "metadata": {
    "tags": []
   },
   "outputs": [
    {
     "output_type": "stream",
     "name": "stdout",
     "text": "['HRF_GLAUCOMA', 'ORIGA_GLAUCOMA', 'DR_HAGIS_GLAUCOMA', 'kaggle_ds/2_glaucoma']\n"
    }
   ],
   "source": [
    "glau_folders = [x for x in os.listdir() if x.endswith('GLAUCOMA')]\n",
    "glau_folders.append(os.path.join('kaggle_ds', '2_glaucoma'))\n",
    "\n",
    "print(glau_folders)"
   ]
  },
  {
   "cell_type": "code",
   "execution_count": 7,
   "metadata": {},
   "outputs": [
    {
     "output_type": "execute_result",
     "data": {
      "text/plain": "             filename     label                                   path\n0            07_g.jpg  glaucoma                  HRF_GLAUCOMA/07_g.jpg\n1            05_g.jpg  glaucoma                  HRF_GLAUCOMA/05_g.jpg\n2            14_g.jpg  glaucoma                  HRF_GLAUCOMA/14_g.jpg\n3            01_g.jpg  glaucoma                  HRF_GLAUCOMA/01_g.jpg\n4            06_g.jpg  glaucoma                  HRF_GLAUCOMA/06_g.jpg\n..                ...       ...                                    ...\n96   Glaucoma_044.png  glaucoma  kaggle_ds/2_glaucoma/Glaucoma_044.png\n97   Glaucoma_060.png  glaucoma  kaggle_ds/2_glaucoma/Glaucoma_060.png\n98   Glaucoma_064.png  glaucoma  kaggle_ds/2_glaucoma/Glaucoma_064.png\n99   Glaucoma_058.png  glaucoma  kaggle_ds/2_glaucoma/Glaucoma_058.png\n100  Glaucoma_043.png  glaucoma  kaggle_ds/2_glaucoma/Glaucoma_043.png\n\n[293 rows x 3 columns]",
      "text/html": "<div>\n<style scoped>\n    .dataframe tbody tr th:only-of-type {\n        vertical-align: middle;\n    }\n\n    .dataframe tbody tr th {\n        vertical-align: top;\n    }\n\n    .dataframe thead th {\n        text-align: right;\n    }\n</style>\n<table border=\"1\" class=\"dataframe\">\n  <thead>\n    <tr style=\"text-align: right;\">\n      <th></th>\n      <th>filename</th>\n      <th>label</th>\n      <th>path</th>\n    </tr>\n  </thead>\n  <tbody>\n    <tr>\n      <th>0</th>\n      <td>07_g.jpg</td>\n      <td>glaucoma</td>\n      <td>HRF_GLAUCOMA/07_g.jpg</td>\n    </tr>\n    <tr>\n      <th>1</th>\n      <td>05_g.jpg</td>\n      <td>glaucoma</td>\n      <td>HRF_GLAUCOMA/05_g.jpg</td>\n    </tr>\n    <tr>\n      <th>2</th>\n      <td>14_g.jpg</td>\n      <td>glaucoma</td>\n      <td>HRF_GLAUCOMA/14_g.jpg</td>\n    </tr>\n    <tr>\n      <th>3</th>\n      <td>01_g.jpg</td>\n      <td>glaucoma</td>\n      <td>HRF_GLAUCOMA/01_g.jpg</td>\n    </tr>\n    <tr>\n      <th>4</th>\n      <td>06_g.jpg</td>\n      <td>glaucoma</td>\n      <td>HRF_GLAUCOMA/06_g.jpg</td>\n    </tr>\n    <tr>\n      <th>...</th>\n      <td>...</td>\n      <td>...</td>\n      <td>...</td>\n    </tr>\n    <tr>\n      <th>96</th>\n      <td>Glaucoma_044.png</td>\n      <td>glaucoma</td>\n      <td>kaggle_ds/2_glaucoma/Glaucoma_044.png</td>\n    </tr>\n    <tr>\n      <th>97</th>\n      <td>Glaucoma_060.png</td>\n      <td>glaucoma</td>\n      <td>kaggle_ds/2_glaucoma/Glaucoma_060.png</td>\n    </tr>\n    <tr>\n      <th>98</th>\n      <td>Glaucoma_064.png</td>\n      <td>glaucoma</td>\n      <td>kaggle_ds/2_glaucoma/Glaucoma_064.png</td>\n    </tr>\n    <tr>\n      <th>99</th>\n      <td>Glaucoma_058.png</td>\n      <td>glaucoma</td>\n      <td>kaggle_ds/2_glaucoma/Glaucoma_058.png</td>\n    </tr>\n    <tr>\n      <th>100</th>\n      <td>Glaucoma_043.png</td>\n      <td>glaucoma</td>\n      <td>kaggle_ds/2_glaucoma/Glaucoma_043.png</td>\n    </tr>\n  </tbody>\n</table>\n<p>293 rows × 3 columns</p>\n</div>"
     },
     "metadata": {},
     "execution_count": 7
    }
   ],
   "source": [
    "glau_df = pd.DataFrame(columns=['filename', 'label', 'path'])\n",
    "\n",
    "for folder in glau_folders:\n",
    "    filenames = os.listdir(folder)\n",
    "    paths = list(map(lambda x: os.path.join(folder, x), filenames))\n",
    "\n",
    "    df = pd.DataFrame({'filename': filenames, 'label': 'glaucoma', 'path': paths}, columns=['filename', 'label', 'path'])\n",
    "    glau_df = glau_df.append(df)\n",
    "\n",
    "glau_df"
   ]
  },
  {
   "cell_type": "markdown",
   "metadata": {},
   "source": [
    "## Combine all Glaucoma samples"
   ]
  },
  {
   "cell_type": "code",
   "execution_count": 8,
   "metadata": {},
   "outputs": [
    {
     "output_type": "execute_result",
     "data": {
      "text/plain": "       filename     label                          path\n0      07_g.jpg  glaucoma         HRF_GLAUCOMA/07_g.jpg\n1      05_g.jpg  glaucoma         HRF_GLAUCOMA/05_g.jpg\n2      14_g.jpg  glaucoma         HRF_GLAUCOMA/14_g.jpg\n3      01_g.jpg  glaucoma         HRF_GLAUCOMA/01_g.jpg\n4      06_g.jpg  glaucoma         HRF_GLAUCOMA/06_g.jpg\n..          ...       ...                           ...\n654  S-15-L.jpg  glaucoma  RIMONE_r3_CROPPED/S-15-L.jpg\n655  S-27-L.jpg  glaucoma  RIMONE_r3_CROPPED/S-27-L.jpg\n656  G-22-L.jpg  glaucoma  RIMONE_r3_CROPPED/G-22-L.jpg\n657  S-20-L.jpg  glaucoma  RIMONE_r3_CROPPED/S-20-L.jpg\n658  G-19-R.jpg  glaucoma  RIMONE_r3_CROPPED/G-19-R.jpg\n\n[659 rows x 3 columns]",
      "text/html": "<div>\n<style scoped>\n    .dataframe tbody tr th:only-of-type {\n        vertical-align: middle;\n    }\n\n    .dataframe tbody tr th {\n        vertical-align: top;\n    }\n\n    .dataframe thead th {\n        text-align: right;\n    }\n</style>\n<table border=\"1\" class=\"dataframe\">\n  <thead>\n    <tr style=\"text-align: right;\">\n      <th></th>\n      <th>filename</th>\n      <th>label</th>\n      <th>path</th>\n    </tr>\n  </thead>\n  <tbody>\n    <tr>\n      <th>0</th>\n      <td>07_g.jpg</td>\n      <td>glaucoma</td>\n      <td>HRF_GLAUCOMA/07_g.jpg</td>\n    </tr>\n    <tr>\n      <th>1</th>\n      <td>05_g.jpg</td>\n      <td>glaucoma</td>\n      <td>HRF_GLAUCOMA/05_g.jpg</td>\n    </tr>\n    <tr>\n      <th>2</th>\n      <td>14_g.jpg</td>\n      <td>glaucoma</td>\n      <td>HRF_GLAUCOMA/14_g.jpg</td>\n    </tr>\n    <tr>\n      <th>3</th>\n      <td>01_g.jpg</td>\n      <td>glaucoma</td>\n      <td>HRF_GLAUCOMA/01_g.jpg</td>\n    </tr>\n    <tr>\n      <th>4</th>\n      <td>06_g.jpg</td>\n      <td>glaucoma</td>\n      <td>HRF_GLAUCOMA/06_g.jpg</td>\n    </tr>\n    <tr>\n      <th>...</th>\n      <td>...</td>\n      <td>...</td>\n      <td>...</td>\n    </tr>\n    <tr>\n      <th>654</th>\n      <td>S-15-L.jpg</td>\n      <td>glaucoma</td>\n      <td>RIMONE_r3_CROPPED/S-15-L.jpg</td>\n    </tr>\n    <tr>\n      <th>655</th>\n      <td>S-27-L.jpg</td>\n      <td>glaucoma</td>\n      <td>RIMONE_r3_CROPPED/S-27-L.jpg</td>\n    </tr>\n    <tr>\n      <th>656</th>\n      <td>G-22-L.jpg</td>\n      <td>glaucoma</td>\n      <td>RIMONE_r3_CROPPED/G-22-L.jpg</td>\n    </tr>\n    <tr>\n      <th>657</th>\n      <td>S-20-L.jpg</td>\n      <td>glaucoma</td>\n      <td>RIMONE_r3_CROPPED/S-20-L.jpg</td>\n    </tr>\n    <tr>\n      <th>658</th>\n      <td>G-19-R.jpg</td>\n      <td>glaucoma</td>\n      <td>RIMONE_r3_CROPPED/G-19-R.jpg</td>\n    </tr>\n  </tbody>\n</table>\n<p>659 rows × 3 columns</p>\n</div>"
     },
     "metadata": {},
     "execution_count": 8
    }
   ],
   "source": [
    "glau_df = glau_df.append(drishti_glau, ignore_index=True)\n",
    "glau_df = glau_df.append(rimone_glau_df, ignore_index=True)\n",
    "glau_df"
   ]
  },
  {
   "cell_type": "code",
   "execution_count": 9,
   "metadata": {
    "tags": []
   },
   "outputs": [
    {
     "output_type": "stream",
     "name": "stdout",
     "text": "['ORIGA_NORMAL', 'kaggle_ds/1_normal']\n"
    }
   ],
   "source": [
    "normal_folders = [x for x in os.listdir() if x.endswith('NORMAL')]\n",
    "normal_folders.append(os.path.join('kaggle_ds', '1_normal'))\n",
    "\n",
    "print(normal_folders)"
   ]
  },
  {
   "cell_type": "code",
   "execution_count": 10,
   "metadata": {},
   "outputs": [
    {
     "output_type": "execute_result",
     "data": {
      "text/plain": "             filename   label                           path\n0    Im0176_ORIGA.jpg  normal  ORIGA_NORMAL/Im0176_ORIGA.jpg\n1    Im0277_ORIGA.jpg  normal  ORIGA_NORMAL/Im0277_ORIGA.jpg\n2    Im0166_ORIGA.jpg  normal  ORIGA_NORMAL/Im0166_ORIGA.jpg\n3    Im0156_ORIGA.jpg  normal  ORIGA_NORMAL/Im0156_ORIGA.jpg\n4    Im0439_ORIGA.jpg  normal  ORIGA_NORMAL/Im0439_ORIGA.jpg\n..                ...     ...                            ...\n295        NL_181.png  normal  kaggle_ds/1_normal/NL_181.png\n296        NL_154.png  normal  kaggle_ds/1_normal/NL_154.png\n297        NL_002.png  normal  kaggle_ds/1_normal/NL_002.png\n298        NL_080.png  normal  kaggle_ds/1_normal/NL_080.png\n299        NL_066.png  normal  kaggle_ds/1_normal/NL_066.png\n\n[782 rows x 3 columns]",
      "text/html": "<div>\n<style scoped>\n    .dataframe tbody tr th:only-of-type {\n        vertical-align: middle;\n    }\n\n    .dataframe tbody tr th {\n        vertical-align: top;\n    }\n\n    .dataframe thead th {\n        text-align: right;\n    }\n</style>\n<table border=\"1\" class=\"dataframe\">\n  <thead>\n    <tr style=\"text-align: right;\">\n      <th></th>\n      <th>filename</th>\n      <th>label</th>\n      <th>path</th>\n    </tr>\n  </thead>\n  <tbody>\n    <tr>\n      <th>0</th>\n      <td>Im0176_ORIGA.jpg</td>\n      <td>normal</td>\n      <td>ORIGA_NORMAL/Im0176_ORIGA.jpg</td>\n    </tr>\n    <tr>\n      <th>1</th>\n      <td>Im0277_ORIGA.jpg</td>\n      <td>normal</td>\n      <td>ORIGA_NORMAL/Im0277_ORIGA.jpg</td>\n    </tr>\n    <tr>\n      <th>2</th>\n      <td>Im0166_ORIGA.jpg</td>\n      <td>normal</td>\n      <td>ORIGA_NORMAL/Im0166_ORIGA.jpg</td>\n    </tr>\n    <tr>\n      <th>3</th>\n      <td>Im0156_ORIGA.jpg</td>\n      <td>normal</td>\n      <td>ORIGA_NORMAL/Im0156_ORIGA.jpg</td>\n    </tr>\n    <tr>\n      <th>4</th>\n      <td>Im0439_ORIGA.jpg</td>\n      <td>normal</td>\n      <td>ORIGA_NORMAL/Im0439_ORIGA.jpg</td>\n    </tr>\n    <tr>\n      <th>...</th>\n      <td>...</td>\n      <td>...</td>\n      <td>...</td>\n    </tr>\n    <tr>\n      <th>295</th>\n      <td>NL_181.png</td>\n      <td>normal</td>\n      <td>kaggle_ds/1_normal/NL_181.png</td>\n    </tr>\n    <tr>\n      <th>296</th>\n      <td>NL_154.png</td>\n      <td>normal</td>\n      <td>kaggle_ds/1_normal/NL_154.png</td>\n    </tr>\n    <tr>\n      <th>297</th>\n      <td>NL_002.png</td>\n      <td>normal</td>\n      <td>kaggle_ds/1_normal/NL_002.png</td>\n    </tr>\n    <tr>\n      <th>298</th>\n      <td>NL_080.png</td>\n      <td>normal</td>\n      <td>kaggle_ds/1_normal/NL_080.png</td>\n    </tr>\n    <tr>\n      <th>299</th>\n      <td>NL_066.png</td>\n      <td>normal</td>\n      <td>kaggle_ds/1_normal/NL_066.png</td>\n    </tr>\n  </tbody>\n</table>\n<p>782 rows × 3 columns</p>\n</div>"
     },
     "metadata": {},
     "execution_count": 10
    }
   ],
   "source": [
    "normal_df = pd.DataFrame(columns=['filename', 'label', 'path'])\n",
    "\n",
    "for folder in normal_folders:\n",
    "    filenames = os.listdir(folder)\n",
    "    paths = list(map(lambda x: os.path.join(folder, x), filenames))\n",
    "\n",
    "    df = pd.DataFrame({'filename': filenames, 'label': 'normal', 'path': paths}, columns=['filename', 'label', 'path'])\n",
    "    normal_df = normal_df.append(df)\n",
    "\n",
    "normal_df"
   ]
  },
  {
   "cell_type": "markdown",
   "metadata": {},
   "source": [
    "## Combine all normal samples"
   ]
  },
  {
   "cell_type": "code",
   "execution_count": 11,
   "metadata": {},
   "outputs": [
    {
     "output_type": "execute_result",
     "data": {
      "text/plain": "              filename   label                           path\n0     Im0176_ORIGA.jpg  normal  ORIGA_NORMAL/Im0176_ORIGA.jpg\n1     Im0277_ORIGA.jpg  normal  ORIGA_NORMAL/Im0277_ORIGA.jpg\n2     Im0166_ORIGA.jpg  normal  ORIGA_NORMAL/Im0166_ORIGA.jpg\n3     Im0156_ORIGA.jpg  normal  ORIGA_NORMAL/Im0156_ORIGA.jpg\n4     Im0439_ORIGA.jpg  normal  ORIGA_NORMAL/Im0439_ORIGA.jpg\n...                ...     ...                            ...\n1225        N-43-L.jpg  normal   RIMONE_r3_CROPPED/N-43-L.jpg\n1226        N-67-L.jpg  normal   RIMONE_r3_CROPPED/N-67-L.jpg\n1227        N-23-L.jpg  normal   RIMONE_r3_CROPPED/N-23-L.jpg\n1228        N-36-R.jpg  normal   RIMONE_r3_CROPPED/N-36-R.jpg\n1229        N-48-R.jpg  normal   RIMONE_r3_CROPPED/N-48-R.jpg\n\n[1230 rows x 3 columns]",
      "text/html": "<div>\n<style scoped>\n    .dataframe tbody tr th:only-of-type {\n        vertical-align: middle;\n    }\n\n    .dataframe tbody tr th {\n        vertical-align: top;\n    }\n\n    .dataframe thead th {\n        text-align: right;\n    }\n</style>\n<table border=\"1\" class=\"dataframe\">\n  <thead>\n    <tr style=\"text-align: right;\">\n      <th></th>\n      <th>filename</th>\n      <th>label</th>\n      <th>path</th>\n    </tr>\n  </thead>\n  <tbody>\n    <tr>\n      <th>0</th>\n      <td>Im0176_ORIGA.jpg</td>\n      <td>normal</td>\n      <td>ORIGA_NORMAL/Im0176_ORIGA.jpg</td>\n    </tr>\n    <tr>\n      <th>1</th>\n      <td>Im0277_ORIGA.jpg</td>\n      <td>normal</td>\n      <td>ORIGA_NORMAL/Im0277_ORIGA.jpg</td>\n    </tr>\n    <tr>\n      <th>2</th>\n      <td>Im0166_ORIGA.jpg</td>\n      <td>normal</td>\n      <td>ORIGA_NORMAL/Im0166_ORIGA.jpg</td>\n    </tr>\n    <tr>\n      <th>3</th>\n      <td>Im0156_ORIGA.jpg</td>\n      <td>normal</td>\n      <td>ORIGA_NORMAL/Im0156_ORIGA.jpg</td>\n    </tr>\n    <tr>\n      <th>4</th>\n      <td>Im0439_ORIGA.jpg</td>\n      <td>normal</td>\n      <td>ORIGA_NORMAL/Im0439_ORIGA.jpg</td>\n    </tr>\n    <tr>\n      <th>...</th>\n      <td>...</td>\n      <td>...</td>\n      <td>...</td>\n    </tr>\n    <tr>\n      <th>1225</th>\n      <td>N-43-L.jpg</td>\n      <td>normal</td>\n      <td>RIMONE_r3_CROPPED/N-43-L.jpg</td>\n    </tr>\n    <tr>\n      <th>1226</th>\n      <td>N-67-L.jpg</td>\n      <td>normal</td>\n      <td>RIMONE_r3_CROPPED/N-67-L.jpg</td>\n    </tr>\n    <tr>\n      <th>1227</th>\n      <td>N-23-L.jpg</td>\n      <td>normal</td>\n      <td>RIMONE_r3_CROPPED/N-23-L.jpg</td>\n    </tr>\n    <tr>\n      <th>1228</th>\n      <td>N-36-R.jpg</td>\n      <td>normal</td>\n      <td>RIMONE_r3_CROPPED/N-36-R.jpg</td>\n    </tr>\n    <tr>\n      <th>1229</th>\n      <td>N-48-R.jpg</td>\n      <td>normal</td>\n      <td>RIMONE_r3_CROPPED/N-48-R.jpg</td>\n    </tr>\n  </tbody>\n</table>\n<p>1230 rows × 3 columns</p>\n</div>"
     },
     "metadata": {},
     "execution_count": 11
    }
   ],
   "source": [
    "normal_df = normal_df.append(drishti_norm, ignore_index=True)\n",
    "normal_df = normal_df.append(rimone_norm_df, ignore_index=True)\n",
    "normal_df"
   ]
  },
  {
   "cell_type": "code",
   "execution_count": 12,
   "metadata": {},
   "outputs": [
    {
     "output_type": "execute_result",
     "data": {
      "text/plain": "        filename     label                          path\n0       07_g.jpg  glaucoma         HRF_GLAUCOMA/07_g.jpg\n1       05_g.jpg  glaucoma         HRF_GLAUCOMA/05_g.jpg\n2       14_g.jpg  glaucoma         HRF_GLAUCOMA/14_g.jpg\n3       01_g.jpg  glaucoma         HRF_GLAUCOMA/01_g.jpg\n4       06_g.jpg  glaucoma         HRF_GLAUCOMA/06_g.jpg\n...          ...       ...                           ...\n1884  N-43-L.jpg    normal  RIMONE_r3_CROPPED/N-43-L.jpg\n1885  N-67-L.jpg    normal  RIMONE_r3_CROPPED/N-67-L.jpg\n1886  N-23-L.jpg    normal  RIMONE_r3_CROPPED/N-23-L.jpg\n1887  N-36-R.jpg    normal  RIMONE_r3_CROPPED/N-36-R.jpg\n1888  N-48-R.jpg    normal  RIMONE_r3_CROPPED/N-48-R.jpg\n\n[1889 rows x 3 columns]",
      "text/html": "<div>\n<style scoped>\n    .dataframe tbody tr th:only-of-type {\n        vertical-align: middle;\n    }\n\n    .dataframe tbody tr th {\n        vertical-align: top;\n    }\n\n    .dataframe thead th {\n        text-align: right;\n    }\n</style>\n<table border=\"1\" class=\"dataframe\">\n  <thead>\n    <tr style=\"text-align: right;\">\n      <th></th>\n      <th>filename</th>\n      <th>label</th>\n      <th>path</th>\n    </tr>\n  </thead>\n  <tbody>\n    <tr>\n      <th>0</th>\n      <td>07_g.jpg</td>\n      <td>glaucoma</td>\n      <td>HRF_GLAUCOMA/07_g.jpg</td>\n    </tr>\n    <tr>\n      <th>1</th>\n      <td>05_g.jpg</td>\n      <td>glaucoma</td>\n      <td>HRF_GLAUCOMA/05_g.jpg</td>\n    </tr>\n    <tr>\n      <th>2</th>\n      <td>14_g.jpg</td>\n      <td>glaucoma</td>\n      <td>HRF_GLAUCOMA/14_g.jpg</td>\n    </tr>\n    <tr>\n      <th>3</th>\n      <td>01_g.jpg</td>\n      <td>glaucoma</td>\n      <td>HRF_GLAUCOMA/01_g.jpg</td>\n    </tr>\n    <tr>\n      <th>4</th>\n      <td>06_g.jpg</td>\n      <td>glaucoma</td>\n      <td>HRF_GLAUCOMA/06_g.jpg</td>\n    </tr>\n    <tr>\n      <th>...</th>\n      <td>...</td>\n      <td>...</td>\n      <td>...</td>\n    </tr>\n    <tr>\n      <th>1884</th>\n      <td>N-43-L.jpg</td>\n      <td>normal</td>\n      <td>RIMONE_r3_CROPPED/N-43-L.jpg</td>\n    </tr>\n    <tr>\n      <th>1885</th>\n      <td>N-67-L.jpg</td>\n      <td>normal</td>\n      <td>RIMONE_r3_CROPPED/N-67-L.jpg</td>\n    </tr>\n    <tr>\n      <th>1886</th>\n      <td>N-23-L.jpg</td>\n      <td>normal</td>\n      <td>RIMONE_r3_CROPPED/N-23-L.jpg</td>\n    </tr>\n    <tr>\n      <th>1887</th>\n      <td>N-36-R.jpg</td>\n      <td>normal</td>\n      <td>RIMONE_r3_CROPPED/N-36-R.jpg</td>\n    </tr>\n    <tr>\n      <th>1888</th>\n      <td>N-48-R.jpg</td>\n      <td>normal</td>\n      <td>RIMONE_r3_CROPPED/N-48-R.jpg</td>\n    </tr>\n  </tbody>\n</table>\n<p>1889 rows × 3 columns</p>\n</div>"
     },
     "metadata": {},
     "execution_count": 12
    }
   ],
   "source": [
    "df = pd.concat([glau_df, normal_df], ignore_index=True)\n",
    "df"
   ]
  },
  {
   "cell_type": "markdown",
   "metadata": {},
   "source": [
    "## Count number of samples for each type"
   ]
  },
  {
   "cell_type": "code",
   "execution_count": 13,
   "metadata": {},
   "outputs": [
    {
     "output_type": "execute_result",
     "data": {
      "text/plain": "          filename  path\nlabel                   \nglaucoma       659   659\nnormal        1230  1230",
      "text/html": "<div>\n<style scoped>\n    .dataframe tbody tr th:only-of-type {\n        vertical-align: middle;\n    }\n\n    .dataframe tbody tr th {\n        vertical-align: top;\n    }\n\n    .dataframe thead th {\n        text-align: right;\n    }\n</style>\n<table border=\"1\" class=\"dataframe\">\n  <thead>\n    <tr style=\"text-align: right;\">\n      <th></th>\n      <th>filename</th>\n      <th>path</th>\n    </tr>\n    <tr>\n      <th>label</th>\n      <th></th>\n      <th></th>\n    </tr>\n  </thead>\n  <tbody>\n    <tr>\n      <th>glaucoma</th>\n      <td>659</td>\n      <td>659</td>\n    </tr>\n    <tr>\n      <th>normal</th>\n      <td>1230</td>\n      <td>1230</td>\n    </tr>\n  </tbody>\n</table>\n</div>"
     },
     "metadata": {},
     "execution_count": 13
    }
   ],
   "source": [
    "df.groupby('label').count()"
   ]
  },
  {
   "cell_type": "code",
   "execution_count": 14,
   "metadata": {
    "tags": []
   },
   "outputs": [
    {
     "output_type": "execute_result",
     "data": {
      "text/plain": "        filename     label                          path  label_encoded\n0       07_g.jpg  glaucoma         HRF_GLAUCOMA/07_g.jpg              1\n1       05_g.jpg  glaucoma         HRF_GLAUCOMA/05_g.jpg              1\n2       14_g.jpg  glaucoma         HRF_GLAUCOMA/14_g.jpg              1\n3       01_g.jpg  glaucoma         HRF_GLAUCOMA/01_g.jpg              1\n4       06_g.jpg  glaucoma         HRF_GLAUCOMA/06_g.jpg              1\n...          ...       ...                           ...            ...\n1884  N-43-L.jpg    normal  RIMONE_r3_CROPPED/N-43-L.jpg              0\n1885  N-67-L.jpg    normal  RIMONE_r3_CROPPED/N-67-L.jpg              0\n1886  N-23-L.jpg    normal  RIMONE_r3_CROPPED/N-23-L.jpg              0\n1887  N-36-R.jpg    normal  RIMONE_r3_CROPPED/N-36-R.jpg              0\n1888  N-48-R.jpg    normal  RIMONE_r3_CROPPED/N-48-R.jpg              0\n\n[1889 rows x 4 columns]",
      "text/html": "<div>\n<style scoped>\n    .dataframe tbody tr th:only-of-type {\n        vertical-align: middle;\n    }\n\n    .dataframe tbody tr th {\n        vertical-align: top;\n    }\n\n    .dataframe thead th {\n        text-align: right;\n    }\n</style>\n<table border=\"1\" class=\"dataframe\">\n  <thead>\n    <tr style=\"text-align: right;\">\n      <th></th>\n      <th>filename</th>\n      <th>label</th>\n      <th>path</th>\n      <th>label_encoded</th>\n    </tr>\n  </thead>\n  <tbody>\n    <tr>\n      <th>0</th>\n      <td>07_g.jpg</td>\n      <td>glaucoma</td>\n      <td>HRF_GLAUCOMA/07_g.jpg</td>\n      <td>1</td>\n    </tr>\n    <tr>\n      <th>1</th>\n      <td>05_g.jpg</td>\n      <td>glaucoma</td>\n      <td>HRF_GLAUCOMA/05_g.jpg</td>\n      <td>1</td>\n    </tr>\n    <tr>\n      <th>2</th>\n      <td>14_g.jpg</td>\n      <td>glaucoma</td>\n      <td>HRF_GLAUCOMA/14_g.jpg</td>\n      <td>1</td>\n    </tr>\n    <tr>\n      <th>3</th>\n      <td>01_g.jpg</td>\n      <td>glaucoma</td>\n      <td>HRF_GLAUCOMA/01_g.jpg</td>\n      <td>1</td>\n    </tr>\n    <tr>\n      <th>4</th>\n      <td>06_g.jpg</td>\n      <td>glaucoma</td>\n      <td>HRF_GLAUCOMA/06_g.jpg</td>\n      <td>1</td>\n    </tr>\n    <tr>\n      <th>...</th>\n      <td>...</td>\n      <td>...</td>\n      <td>...</td>\n      <td>...</td>\n    </tr>\n    <tr>\n      <th>1884</th>\n      <td>N-43-L.jpg</td>\n      <td>normal</td>\n      <td>RIMONE_r3_CROPPED/N-43-L.jpg</td>\n      <td>0</td>\n    </tr>\n    <tr>\n      <th>1885</th>\n      <td>N-67-L.jpg</td>\n      <td>normal</td>\n      <td>RIMONE_r3_CROPPED/N-67-L.jpg</td>\n      <td>0</td>\n    </tr>\n    <tr>\n      <th>1886</th>\n      <td>N-23-L.jpg</td>\n      <td>normal</td>\n      <td>RIMONE_r3_CROPPED/N-23-L.jpg</td>\n      <td>0</td>\n    </tr>\n    <tr>\n      <th>1887</th>\n      <td>N-36-R.jpg</td>\n      <td>normal</td>\n      <td>RIMONE_r3_CROPPED/N-36-R.jpg</td>\n      <td>0</td>\n    </tr>\n    <tr>\n      <th>1888</th>\n      <td>N-48-R.jpg</td>\n      <td>normal</td>\n      <td>RIMONE_r3_CROPPED/N-48-R.jpg</td>\n      <td>0</td>\n    </tr>\n  </tbody>\n</table>\n<p>1889 rows × 4 columns</p>\n</div>"
     },
     "metadata": {},
     "execution_count": 14
    }
   ],
   "source": [
    "df['label_encoded'] = (df['label'] == 'glaucoma').astype(int)\n",
    "df"
   ]
  },
  {
   "cell_type": "code",
   "execution_count": 15,
   "metadata": {},
   "outputs": [
    {
     "output_type": "execute_result",
     "data": {
      "text/plain": "               filename     label                               path  \\\n0      Im0092_ORIGA.jpg    normal      ORIGA_NORMAL/Im0092_ORIGA.jpg   \n1      Im0051_ORIGA.jpg    normal      ORIGA_NORMAL/Im0051_ORIGA.jpg   \n2      Im0460_ORIGA.jpg    normal      ORIGA_NORMAL/Im0460_ORIGA.jpg   \n3            N-12-R.jpg    normal       RIMONE_r3_CROPPED/N-12-R.jpg   \n4             Im169.bmp    normal         RIMONE_r1/Normal/Im169.bmp   \n..                  ...       ...                                ...   \n195  Im0554_g_ORIGA.jpg  glaucoma  ORIGA_GLAUCOMA/Im0554_g_ORIGA.jpg   \n196           Im017.bmp  glaucoma          RIMONE_r1/Early/Im017.bmp   \n197  Im0550_g_ORIGA.jpg  glaucoma  ORIGA_GLAUCOMA/Im0550_g_ORIGA.jpg   \n198           Im013.bmp  glaucoma           RIMONE_r1/Deep/Im013.bmp   \n199  Im0633_g_ORIGA.jpg  glaucoma  ORIGA_GLAUCOMA/Im0633_g_ORIGA.jpg   \n\n    label_encoded  \n0               0  \n1               0  \n2               0  \n3               0  \n4               0  \n..            ...  \n195             1  \n196             1  \n197             1  \n198             1  \n199             1  \n\n[200 rows x 4 columns]",
      "text/html": "<div>\n<style scoped>\n    .dataframe tbody tr th:only-of-type {\n        vertical-align: middle;\n    }\n\n    .dataframe tbody tr th {\n        vertical-align: top;\n    }\n\n    .dataframe thead th {\n        text-align: right;\n    }\n</style>\n<table border=\"1\" class=\"dataframe\">\n  <thead>\n    <tr style=\"text-align: right;\">\n      <th></th>\n      <th>filename</th>\n      <th>label</th>\n      <th>path</th>\n      <th>label_encoded</th>\n    </tr>\n  </thead>\n  <tbody>\n    <tr>\n      <th>0</th>\n      <td>Im0092_ORIGA.jpg</td>\n      <td>normal</td>\n      <td>ORIGA_NORMAL/Im0092_ORIGA.jpg</td>\n      <td>0</td>\n    </tr>\n    <tr>\n      <th>1</th>\n      <td>Im0051_ORIGA.jpg</td>\n      <td>normal</td>\n      <td>ORIGA_NORMAL/Im0051_ORIGA.jpg</td>\n      <td>0</td>\n    </tr>\n    <tr>\n      <th>2</th>\n      <td>Im0460_ORIGA.jpg</td>\n      <td>normal</td>\n      <td>ORIGA_NORMAL/Im0460_ORIGA.jpg</td>\n      <td>0</td>\n    </tr>\n    <tr>\n      <th>3</th>\n      <td>N-12-R.jpg</td>\n      <td>normal</td>\n      <td>RIMONE_r3_CROPPED/N-12-R.jpg</td>\n      <td>0</td>\n    </tr>\n    <tr>\n      <th>4</th>\n      <td>Im169.bmp</td>\n      <td>normal</td>\n      <td>RIMONE_r1/Normal/Im169.bmp</td>\n      <td>0</td>\n    </tr>\n    <tr>\n      <th>...</th>\n      <td>...</td>\n      <td>...</td>\n      <td>...</td>\n      <td>...</td>\n    </tr>\n    <tr>\n      <th>195</th>\n      <td>Im0554_g_ORIGA.jpg</td>\n      <td>glaucoma</td>\n      <td>ORIGA_GLAUCOMA/Im0554_g_ORIGA.jpg</td>\n      <td>1</td>\n    </tr>\n    <tr>\n      <th>196</th>\n      <td>Im017.bmp</td>\n      <td>glaucoma</td>\n      <td>RIMONE_r1/Early/Im017.bmp</td>\n      <td>1</td>\n    </tr>\n    <tr>\n      <th>197</th>\n      <td>Im0550_g_ORIGA.jpg</td>\n      <td>glaucoma</td>\n      <td>ORIGA_GLAUCOMA/Im0550_g_ORIGA.jpg</td>\n      <td>1</td>\n    </tr>\n    <tr>\n      <th>198</th>\n      <td>Im013.bmp</td>\n      <td>glaucoma</td>\n      <td>RIMONE_r1/Deep/Im013.bmp</td>\n      <td>1</td>\n    </tr>\n    <tr>\n      <th>199</th>\n      <td>Im0633_g_ORIGA.jpg</td>\n      <td>glaucoma</td>\n      <td>ORIGA_GLAUCOMA/Im0633_g_ORIGA.jpg</td>\n      <td>1</td>\n    </tr>\n  </tbody>\n</table>\n<p>200 rows × 4 columns</p>\n</div>"
     },
     "metadata": {},
     "execution_count": 15
    }
   ],
   "source": [
    "TEST_SIZE = 100\n",
    "VAL_SIZE = 100\n",
    "test_df = pd.DataFrame(columns=df.columns)\n",
    "\n",
    "for i in range(2):\n",
    "    temp_df = df[df['label_encoded'] == i]\n",
    "    temp_df = temp_df.sample(TEST_SIZE, random_state=0)\n",
    "    test_df = test_df.append(temp_df, ignore_index=True)\n",
    "\n",
    "test_df"
   ]
  },
  {
   "cell_type": "code",
   "execution_count": 16,
   "metadata": {},
   "outputs": [
    {
     "output_type": "execute_result",
     "data": {
      "text/plain": "              filename     label  \\\n0     Im0309_ORIGA.jpg    normal   \n1            Im199.jpg    normal   \n2     Im0433_ORIGA.jpg    normal   \n3           N-36-R.jpg    normal   \n4           NL_254.png    normal   \n..                 ...       ...   \n195          Im283.jpg  glaucoma   \n196          Im422.jpg  glaucoma   \n197         S-25-L.jpg  glaucoma   \n198  drishtiGS_031.png  glaucoma   \n199  drishtiGS_055.png  glaucoma   \n\n                                                  path label_encoded  \n0                        ORIGA_NORMAL/Im0309_ORIGA.jpg             0  \n1                           RIMONE_r2/Normal/Im199.jpg             0  \n2                        ORIGA_NORMAL/Im0433_ORIGA.jpg             0  \n3                         RIMONE_r3_CROPPED/N-36-R.jpg             0  \n4                        kaggle_ds/1_normal/NL_254.png             0  \n..                                                 ...           ...  \n195  RIMONE_r2/Glaucoma and glaucoma suspicious/Im2...             1  \n196  RIMONE_r2/Glaucoma and glaucoma suspicious/Im4...             1  \n197                       RIMONE_r3_CROPPED/S-25-L.jpg             1  \n198                          Drishti/drishtiGS_031.png             1  \n199                          Drishti/drishtiGS_055.png             1  \n\n[200 rows x 4 columns]",
      "text/html": "<div>\n<style scoped>\n    .dataframe tbody tr th:only-of-type {\n        vertical-align: middle;\n    }\n\n    .dataframe tbody tr th {\n        vertical-align: top;\n    }\n\n    .dataframe thead th {\n        text-align: right;\n    }\n</style>\n<table border=\"1\" class=\"dataframe\">\n  <thead>\n    <tr style=\"text-align: right;\">\n      <th></th>\n      <th>filename</th>\n      <th>label</th>\n      <th>path</th>\n      <th>label_encoded</th>\n    </tr>\n  </thead>\n  <tbody>\n    <tr>\n      <th>0</th>\n      <td>Im0309_ORIGA.jpg</td>\n      <td>normal</td>\n      <td>ORIGA_NORMAL/Im0309_ORIGA.jpg</td>\n      <td>0</td>\n    </tr>\n    <tr>\n      <th>1</th>\n      <td>Im199.jpg</td>\n      <td>normal</td>\n      <td>RIMONE_r2/Normal/Im199.jpg</td>\n      <td>0</td>\n    </tr>\n    <tr>\n      <th>2</th>\n      <td>Im0433_ORIGA.jpg</td>\n      <td>normal</td>\n      <td>ORIGA_NORMAL/Im0433_ORIGA.jpg</td>\n      <td>0</td>\n    </tr>\n    <tr>\n      <th>3</th>\n      <td>N-36-R.jpg</td>\n      <td>normal</td>\n      <td>RIMONE_r3_CROPPED/N-36-R.jpg</td>\n      <td>0</td>\n    </tr>\n    <tr>\n      <th>4</th>\n      <td>NL_254.png</td>\n      <td>normal</td>\n      <td>kaggle_ds/1_normal/NL_254.png</td>\n      <td>0</td>\n    </tr>\n    <tr>\n      <th>...</th>\n      <td>...</td>\n      <td>...</td>\n      <td>...</td>\n      <td>...</td>\n    </tr>\n    <tr>\n      <th>195</th>\n      <td>Im283.jpg</td>\n      <td>glaucoma</td>\n      <td>RIMONE_r2/Glaucoma and glaucoma suspicious/Im2...</td>\n      <td>1</td>\n    </tr>\n    <tr>\n      <th>196</th>\n      <td>Im422.jpg</td>\n      <td>glaucoma</td>\n      <td>RIMONE_r2/Glaucoma and glaucoma suspicious/Im4...</td>\n      <td>1</td>\n    </tr>\n    <tr>\n      <th>197</th>\n      <td>S-25-L.jpg</td>\n      <td>glaucoma</td>\n      <td>RIMONE_r3_CROPPED/S-25-L.jpg</td>\n      <td>1</td>\n    </tr>\n    <tr>\n      <th>198</th>\n      <td>drishtiGS_031.png</td>\n      <td>glaucoma</td>\n      <td>Drishti/drishtiGS_031.png</td>\n      <td>1</td>\n    </tr>\n    <tr>\n      <th>199</th>\n      <td>drishtiGS_055.png</td>\n      <td>glaucoma</td>\n      <td>Drishti/drishtiGS_055.png</td>\n      <td>1</td>\n    </tr>\n  </tbody>\n</table>\n<p>200 rows × 4 columns</p>\n</div>"
     },
     "metadata": {},
     "execution_count": 16
    }
   ],
   "source": [
    "remain_df = df[~df['path'].isin(test_df['path'])]\n",
    "val_df = pd.DataFrame(columns=df.columns)\n",
    "\n",
    "for i in range(2):\n",
    "    temp_df = remain_df[remain_df['label_encoded'] == i]\n",
    "    temp_df = temp_df.sample(VAL_SIZE, random_state=0)\n",
    "    val_df = val_df.append(temp_df, ignore_index=True)\n",
    "\n",
    "val_df"
   ]
  },
  {
   "cell_type": "code",
   "execution_count": 17,
   "metadata": {},
   "outputs": [
    {
     "output_type": "execute_result",
     "data": {
      "text/plain": "        filename     label                          path  label_encoded\n0       07_g.jpg  glaucoma         HRF_GLAUCOMA/07_g.jpg              1\n1       05_g.jpg  glaucoma         HRF_GLAUCOMA/05_g.jpg              1\n2       14_g.jpg  glaucoma         HRF_GLAUCOMA/14_g.jpg              1\n3       01_g.jpg  glaucoma         HRF_GLAUCOMA/01_g.jpg              1\n4       06_g.jpg  glaucoma         HRF_GLAUCOMA/06_g.jpg              1\n...          ...       ...                           ...            ...\n1880  N-21-L.jpg    normal  RIMONE_r3_CROPPED/N-21-L.jpg              0\n1881  N-55-L.jpg    normal  RIMONE_r3_CROPPED/N-55-L.jpg              0\n1884  N-43-L.jpg    normal  RIMONE_r3_CROPPED/N-43-L.jpg              0\n1885  N-67-L.jpg    normal  RIMONE_r3_CROPPED/N-67-L.jpg              0\n1888  N-48-R.jpg    normal  RIMONE_r3_CROPPED/N-48-R.jpg              0\n\n[1489 rows x 4 columns]",
      "text/html": "<div>\n<style scoped>\n    .dataframe tbody tr th:only-of-type {\n        vertical-align: middle;\n    }\n\n    .dataframe tbody tr th {\n        vertical-align: top;\n    }\n\n    .dataframe thead th {\n        text-align: right;\n    }\n</style>\n<table border=\"1\" class=\"dataframe\">\n  <thead>\n    <tr style=\"text-align: right;\">\n      <th></th>\n      <th>filename</th>\n      <th>label</th>\n      <th>path</th>\n      <th>label_encoded</th>\n    </tr>\n  </thead>\n  <tbody>\n    <tr>\n      <th>0</th>\n      <td>07_g.jpg</td>\n      <td>glaucoma</td>\n      <td>HRF_GLAUCOMA/07_g.jpg</td>\n      <td>1</td>\n    </tr>\n    <tr>\n      <th>1</th>\n      <td>05_g.jpg</td>\n      <td>glaucoma</td>\n      <td>HRF_GLAUCOMA/05_g.jpg</td>\n      <td>1</td>\n    </tr>\n    <tr>\n      <th>2</th>\n      <td>14_g.jpg</td>\n      <td>glaucoma</td>\n      <td>HRF_GLAUCOMA/14_g.jpg</td>\n      <td>1</td>\n    </tr>\n    <tr>\n      <th>3</th>\n      <td>01_g.jpg</td>\n      <td>glaucoma</td>\n      <td>HRF_GLAUCOMA/01_g.jpg</td>\n      <td>1</td>\n    </tr>\n    <tr>\n      <th>4</th>\n      <td>06_g.jpg</td>\n      <td>glaucoma</td>\n      <td>HRF_GLAUCOMA/06_g.jpg</td>\n      <td>1</td>\n    </tr>\n    <tr>\n      <th>...</th>\n      <td>...</td>\n      <td>...</td>\n      <td>...</td>\n      <td>...</td>\n    </tr>\n    <tr>\n      <th>1880</th>\n      <td>N-21-L.jpg</td>\n      <td>normal</td>\n      <td>RIMONE_r3_CROPPED/N-21-L.jpg</td>\n      <td>0</td>\n    </tr>\n    <tr>\n      <th>1881</th>\n      <td>N-55-L.jpg</td>\n      <td>normal</td>\n      <td>RIMONE_r3_CROPPED/N-55-L.jpg</td>\n      <td>0</td>\n    </tr>\n    <tr>\n      <th>1884</th>\n      <td>N-43-L.jpg</td>\n      <td>normal</td>\n      <td>RIMONE_r3_CROPPED/N-43-L.jpg</td>\n      <td>0</td>\n    </tr>\n    <tr>\n      <th>1885</th>\n      <td>N-67-L.jpg</td>\n      <td>normal</td>\n      <td>RIMONE_r3_CROPPED/N-67-L.jpg</td>\n      <td>0</td>\n    </tr>\n    <tr>\n      <th>1888</th>\n      <td>N-48-R.jpg</td>\n      <td>normal</td>\n      <td>RIMONE_r3_CROPPED/N-48-R.jpg</td>\n      <td>0</td>\n    </tr>\n  </tbody>\n</table>\n<p>1489 rows × 4 columns</p>\n</div>"
     },
     "metadata": {},
     "execution_count": 17
    }
   ],
   "source": [
    "train_df = remain_df[~remain_df['path'].isin(val_df['path'])]\n",
    "train_df"
   ]
  },
  {
   "cell_type": "code",
   "execution_count": 18,
   "metadata": {
    "tags": []
   },
   "outputs": [
    {
     "output_type": "stream",
     "name": "stdout",
     "text": "Test set:  200\nValidation set:  200\nTrain set:  1489\n"
    }
   ],
   "source": [
    "print(\"Test set: \", len(test_df))\n",
    "print(\"Validation set: \", len(val_df))\n",
    "print(\"Train set: \", len(train_df))"
   ]
  },
  {
   "cell_type": "code",
   "execution_count": 19,
   "metadata": {},
   "outputs": [],
   "source": [
    "test_df.to_csv('glaucoma_test.csv', index=False)\n",
    "val_df.to_csv('glaucoma_val.csv', index=False)\n",
    "train_df.to_csv('glaucoma_train.csv', index=False)"
   ]
  },
  {
   "cell_type": "code",
   "execution_count": null,
   "metadata": {},
   "outputs": [],
   "source": []
  }
 ]
}
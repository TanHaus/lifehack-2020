{
 "metadata": {
  "language_info": {
   "codemirror_mode": {
    "name": "ipython",
    "version": 3
   },
   "file_extension": ".py",
   "mimetype": "text/x-python",
   "name": "python",
   "nbconvert_exporter": "python",
   "pygments_lexer": "ipython3",
   "version": 3
  },
  "orig_nbformat": 2,
  "kernelspec": {
   "name": "python_defaultSpec_1595695161044",
   "display_name": "Python 3.7.6 64-bit ('anaconda3': conda)"
  }
 },
 "nbformat": 4,
 "nbformat_minor": 2,
 "cells": [
  {
   "cell_type": "markdown",
   "metadata": {},
   "source": [
    "This notebook prepares a train and test dataframe from the following sources:\n",
    "- `DR_HAGIS_GLAUCOMA`\n",
    "- `HRF_GLAUCOMA`\n",
    "- `kaggle_ds/1_normal` and `kaggle_ds/2_glaucoma`\n",
    "- `ORIGA_GLAUCOMA`\n",
    "- `ORIGA_NORMAL`"
   ]
  },
  {
   "cell_type": "code",
   "execution_count": 1,
   "metadata": {},
   "outputs": [],
   "source": [
    "import os\n",
    "\n",
    "import pandas as pd\n",
    "import matplotlib.pyplot as plt"
   ]
  },
  {
   "cell_type": "code",
   "execution_count": 31,
   "metadata": {},
   "outputs": [
    {
     "output_type": "execute_result",
     "data": {
      "text/plain": "    Drishti-GS File  Patient ID  Marking 1  Marking 2  Marking 3  Marking 4  \\\n0    drishtiGS_001'   1077987.0       -1.0       -1.0        1.0        1.0   \n1    drishtiGS_002'   1167573.0        1.0        1.0        1.0        1.0   \n2    drishtiGS_003'   1393265.0        1.0        1.0        1.0        1.0   \n3    drishtiGS_004'   1393265.0        1.0        1.0       -1.0        1.0   \n4    drishtiGS_005'   1481925.0        1.0        1.0        1.0        1.0   \n..              ...         ...        ...        ...        ...        ...   \n100  drishtiGS_101'   2864841.0       -1.0       -1.0       -1.0       -1.0   \n101             NaN         NaN        NaN        NaN        NaN        NaN   \n102             NaN         NaN        NaN        NaN        NaN        NaN   \n103             NaN         NaN        NaN        NaN        NaN        NaN   \n104             NaN         NaN        NaN        NaN        NaN        NaN   \n\n     Additional Expert         Total  Unnamed: 8  Unnamed: 9  \n0                  1.0  Glaucomatous         NaN         NaN  \n1                  1.0  Glaucomatous         NaN         NaN  \n2                  1.0  Glaucomatous         NaN         NaN  \n3                  1.0  Glaucomatous         NaN         NaN  \n4                  1.0  Glaucomatous         NaN         NaN  \n..                 ...           ...         ...         ...  \n100               -1.0        Normal         NaN         NaN  \n101                NaN           NaN         NaN         NaN  \n102                NaN           NaN         NaN         NaN  \n103                NaN           NaN         NaN         NaN  \n104                NaN           NaN         NaN         NaN  \n\n[105 rows x 10 columns]",
      "text/html": "<div>\n<style scoped>\n    .dataframe tbody tr th:only-of-type {\n        vertical-align: middle;\n    }\n\n    .dataframe tbody tr th {\n        vertical-align: top;\n    }\n\n    .dataframe thead th {\n        text-align: right;\n    }\n</style>\n<table border=\"1\" class=\"dataframe\">\n  <thead>\n    <tr style=\"text-align: right;\">\n      <th></th>\n      <th>Drishti-GS File</th>\n      <th>Patient ID</th>\n      <th>Marking 1</th>\n      <th>Marking 2</th>\n      <th>Marking 3</th>\n      <th>Marking 4</th>\n      <th>Additional Expert</th>\n      <th>Total</th>\n      <th>Unnamed: 8</th>\n      <th>Unnamed: 9</th>\n    </tr>\n  </thead>\n  <tbody>\n    <tr>\n      <th>0</th>\n      <td>drishtiGS_001'</td>\n      <td>1077987.0</td>\n      <td>-1.0</td>\n      <td>-1.0</td>\n      <td>1.0</td>\n      <td>1.0</td>\n      <td>1.0</td>\n      <td>Glaucomatous</td>\n      <td>NaN</td>\n      <td>NaN</td>\n    </tr>\n    <tr>\n      <th>1</th>\n      <td>drishtiGS_002'</td>\n      <td>1167573.0</td>\n      <td>1.0</td>\n      <td>1.0</td>\n      <td>1.0</td>\n      <td>1.0</td>\n      <td>1.0</td>\n      <td>Glaucomatous</td>\n      <td>NaN</td>\n      <td>NaN</td>\n    </tr>\n    <tr>\n      <th>2</th>\n      <td>drishtiGS_003'</td>\n      <td>1393265.0</td>\n      <td>1.0</td>\n      <td>1.0</td>\n      <td>1.0</td>\n      <td>1.0</td>\n      <td>1.0</td>\n      <td>Glaucomatous</td>\n      <td>NaN</td>\n      <td>NaN</td>\n    </tr>\n    <tr>\n      <th>3</th>\n      <td>drishtiGS_004'</td>\n      <td>1393265.0</td>\n      <td>1.0</td>\n      <td>1.0</td>\n      <td>-1.0</td>\n      <td>1.0</td>\n      <td>1.0</td>\n      <td>Glaucomatous</td>\n      <td>NaN</td>\n      <td>NaN</td>\n    </tr>\n    <tr>\n      <th>4</th>\n      <td>drishtiGS_005'</td>\n      <td>1481925.0</td>\n      <td>1.0</td>\n      <td>1.0</td>\n      <td>1.0</td>\n      <td>1.0</td>\n      <td>1.0</td>\n      <td>Glaucomatous</td>\n      <td>NaN</td>\n      <td>NaN</td>\n    </tr>\n    <tr>\n      <th>...</th>\n      <td>...</td>\n      <td>...</td>\n      <td>...</td>\n      <td>...</td>\n      <td>...</td>\n      <td>...</td>\n      <td>...</td>\n      <td>...</td>\n      <td>...</td>\n      <td>...</td>\n    </tr>\n    <tr>\n      <th>100</th>\n      <td>drishtiGS_101'</td>\n      <td>2864841.0</td>\n      <td>-1.0</td>\n      <td>-1.0</td>\n      <td>-1.0</td>\n      <td>-1.0</td>\n      <td>-1.0</td>\n      <td>Normal</td>\n      <td>NaN</td>\n      <td>NaN</td>\n    </tr>\n    <tr>\n      <th>101</th>\n      <td>NaN</td>\n      <td>NaN</td>\n      <td>NaN</td>\n      <td>NaN</td>\n      <td>NaN</td>\n      <td>NaN</td>\n      <td>NaN</td>\n      <td>NaN</td>\n      <td>NaN</td>\n      <td>NaN</td>\n    </tr>\n    <tr>\n      <th>102</th>\n      <td>NaN</td>\n      <td>NaN</td>\n      <td>NaN</td>\n      <td>NaN</td>\n      <td>NaN</td>\n      <td>NaN</td>\n      <td>NaN</td>\n      <td>NaN</td>\n      <td>NaN</td>\n      <td>NaN</td>\n    </tr>\n    <tr>\n      <th>103</th>\n      <td>NaN</td>\n      <td>NaN</td>\n      <td>NaN</td>\n      <td>NaN</td>\n      <td>NaN</td>\n      <td>NaN</td>\n      <td>NaN</td>\n      <td>NaN</td>\n      <td>NaN</td>\n      <td>NaN</td>\n    </tr>\n    <tr>\n      <th>104</th>\n      <td>NaN</td>\n      <td>NaN</td>\n      <td>NaN</td>\n      <td>NaN</td>\n      <td>NaN</td>\n      <td>NaN</td>\n      <td>NaN</td>\n      <td>NaN</td>\n      <td>NaN</td>\n      <td>NaN</td>\n    </tr>\n  </tbody>\n</table>\n<p>105 rows × 10 columns</p>\n</div>"
     },
     "metadata": {},
     "execution_count": 31
    }
   ],
   "source": [
    "drishti = pd.read_csv('Drishti.csv')\n",
    "drishti"
   ]
  },
  {
   "cell_type": "code",
   "execution_count": 32,
   "metadata": {
    "tags": []
   },
   "outputs": [
    {
     "output_type": "execute_result",
     "data": {
      "text/plain": "             filename     label                       path\n0   drishtiGS_001.png  glaucoma  Drishti/drishtiGS_001.png\n1   drishtiGS_002.png  glaucoma  Drishti/drishtiGS_002.png\n2   drishtiGS_003.png  glaucoma  Drishti/drishtiGS_003.png\n3   drishtiGS_004.png  glaucoma  Drishti/drishtiGS_004.png\n4   drishtiGS_005.png  glaucoma  Drishti/drishtiGS_005.png\n..                ...       ...                        ...\n82  drishtiGS_083.png  glaucoma  Drishti/drishtiGS_083.png\n83  drishtiGS_084.png  glaucoma  Drishti/drishtiGS_084.png\n85  drishtiGS_086.png  glaucoma  Drishti/drishtiGS_086.png\n86  drishtiGS_087.png  glaucoma  Drishti/drishtiGS_087.png\n87  drishtiGS_088.png  glaucoma  Drishti/drishtiGS_088.png\n\n[70 rows x 3 columns]",
      "text/html": "<div>\n<style scoped>\n    .dataframe tbody tr th:only-of-type {\n        vertical-align: middle;\n    }\n\n    .dataframe tbody tr th {\n        vertical-align: top;\n    }\n\n    .dataframe thead th {\n        text-align: right;\n    }\n</style>\n<table border=\"1\" class=\"dataframe\">\n  <thead>\n    <tr style=\"text-align: right;\">\n      <th></th>\n      <th>filename</th>\n      <th>label</th>\n      <th>path</th>\n    </tr>\n  </thead>\n  <tbody>\n    <tr>\n      <th>0</th>\n      <td>drishtiGS_001.png</td>\n      <td>glaucoma</td>\n      <td>Drishti/drishtiGS_001.png</td>\n    </tr>\n    <tr>\n      <th>1</th>\n      <td>drishtiGS_002.png</td>\n      <td>glaucoma</td>\n      <td>Drishti/drishtiGS_002.png</td>\n    </tr>\n    <tr>\n      <th>2</th>\n      <td>drishtiGS_003.png</td>\n      <td>glaucoma</td>\n      <td>Drishti/drishtiGS_003.png</td>\n    </tr>\n    <tr>\n      <th>3</th>\n      <td>drishtiGS_004.png</td>\n      <td>glaucoma</td>\n      <td>Drishti/drishtiGS_004.png</td>\n    </tr>\n    <tr>\n      <th>4</th>\n      <td>drishtiGS_005.png</td>\n      <td>glaucoma</td>\n      <td>Drishti/drishtiGS_005.png</td>\n    </tr>\n    <tr>\n      <th>...</th>\n      <td>...</td>\n      <td>...</td>\n      <td>...</td>\n    </tr>\n    <tr>\n      <th>82</th>\n      <td>drishtiGS_083.png</td>\n      <td>glaucoma</td>\n      <td>Drishti/drishtiGS_083.png</td>\n    </tr>\n    <tr>\n      <th>83</th>\n      <td>drishtiGS_084.png</td>\n      <td>glaucoma</td>\n      <td>Drishti/drishtiGS_084.png</td>\n    </tr>\n    <tr>\n      <th>85</th>\n      <td>drishtiGS_086.png</td>\n      <td>glaucoma</td>\n      <td>Drishti/drishtiGS_086.png</td>\n    </tr>\n    <tr>\n      <th>86</th>\n      <td>drishtiGS_087.png</td>\n      <td>glaucoma</td>\n      <td>Drishti/drishtiGS_087.png</td>\n    </tr>\n    <tr>\n      <th>87</th>\n      <td>drishtiGS_088.png</td>\n      <td>glaucoma</td>\n      <td>Drishti/drishtiGS_088.png</td>\n    </tr>\n  </tbody>\n</table>\n<p>70 rows × 3 columns</p>\n</div>"
     },
     "metadata": {},
     "execution_count": 32
    }
   ],
   "source": [
    "drishti = drishti.loc[:, ['Drishti-GS File', 'Total']]\n",
    "drishti.columns = ['filename', 'label']\n",
    "drishti['filename'] = drishti['filename'].str[:-1] + '.png'\n",
    "drishti['path'] = 'Drishti/' + drishti['filename']\n",
    "\n",
    "drishti_glau = drishti[drishti['label'] == 'Glaucomatous']\n",
    "drishti_norm = drishti[drishti['label'] == 'Normal']\n",
    "\n",
    "drishti_glau['label'] = 'glaucoma'\n",
    "drishti_norm['label'] = 'normal'\n",
    "\n",
    "drishti_glau"
   ]
  },
  {
   "cell_type": "code",
   "execution_count": 33,
   "metadata": {
    "tags": []
   },
   "outputs": [
    {
     "output_type": "stream",
     "name": "stdout",
     "text": "['HRF_GLAUCOMA', 'ORIGA_GLAUCOMA', 'DR_HAGIS_GLAUCOMA', 'kaggle_ds/2_glaucoma']\n"
    }
   ],
   "source": [
    "glau_folders = [x for x in os.listdir() if x.endswith('GLAUCOMA')]\n",
    "glau_folders.append(os.path.join('kaggle_ds', '2_glaucoma'))\n",
    "\n",
    "print(glau_folders)"
   ]
  },
  {
   "cell_type": "code",
   "execution_count": 34,
   "metadata": {},
   "outputs": [
    {
     "output_type": "execute_result",
     "data": {
      "text/plain": "             filename     label                                   path\n0            07_g.jpg  glaucoma                  HRF_GLAUCOMA/07_g.jpg\n1            05_g.jpg  glaucoma                  HRF_GLAUCOMA/05_g.jpg\n2            14_g.jpg  glaucoma                  HRF_GLAUCOMA/14_g.jpg\n3            01_g.jpg  glaucoma                  HRF_GLAUCOMA/01_g.jpg\n4            06_g.jpg  glaucoma                  HRF_GLAUCOMA/06_g.jpg\n..                ...       ...                                    ...\n96   Glaucoma_044.png  glaucoma  kaggle_ds/2_glaucoma/Glaucoma_044.png\n97   Glaucoma_060.png  glaucoma  kaggle_ds/2_glaucoma/Glaucoma_060.png\n98   Glaucoma_064.png  glaucoma  kaggle_ds/2_glaucoma/Glaucoma_064.png\n99   Glaucoma_058.png  glaucoma  kaggle_ds/2_glaucoma/Glaucoma_058.png\n100  Glaucoma_043.png  glaucoma  kaggle_ds/2_glaucoma/Glaucoma_043.png\n\n[293 rows x 3 columns]",
      "text/html": "<div>\n<style scoped>\n    .dataframe tbody tr th:only-of-type {\n        vertical-align: middle;\n    }\n\n    .dataframe tbody tr th {\n        vertical-align: top;\n    }\n\n    .dataframe thead th {\n        text-align: right;\n    }\n</style>\n<table border=\"1\" class=\"dataframe\">\n  <thead>\n    <tr style=\"text-align: right;\">\n      <th></th>\n      <th>filename</th>\n      <th>label</th>\n      <th>path</th>\n    </tr>\n  </thead>\n  <tbody>\n    <tr>\n      <th>0</th>\n      <td>07_g.jpg</td>\n      <td>glaucoma</td>\n      <td>HRF_GLAUCOMA/07_g.jpg</td>\n    </tr>\n    <tr>\n      <th>1</th>\n      <td>05_g.jpg</td>\n      <td>glaucoma</td>\n      <td>HRF_GLAUCOMA/05_g.jpg</td>\n    </tr>\n    <tr>\n      <th>2</th>\n      <td>14_g.jpg</td>\n      <td>glaucoma</td>\n      <td>HRF_GLAUCOMA/14_g.jpg</td>\n    </tr>\n    <tr>\n      <th>3</th>\n      <td>01_g.jpg</td>\n      <td>glaucoma</td>\n      <td>HRF_GLAUCOMA/01_g.jpg</td>\n    </tr>\n    <tr>\n      <th>4</th>\n      <td>06_g.jpg</td>\n      <td>glaucoma</td>\n      <td>HRF_GLAUCOMA/06_g.jpg</td>\n    </tr>\n    <tr>\n      <th>...</th>\n      <td>...</td>\n      <td>...</td>\n      <td>...</td>\n    </tr>\n    <tr>\n      <th>96</th>\n      <td>Glaucoma_044.png</td>\n      <td>glaucoma</td>\n      <td>kaggle_ds/2_glaucoma/Glaucoma_044.png</td>\n    </tr>\n    <tr>\n      <th>97</th>\n      <td>Glaucoma_060.png</td>\n      <td>glaucoma</td>\n      <td>kaggle_ds/2_glaucoma/Glaucoma_060.png</td>\n    </tr>\n    <tr>\n      <th>98</th>\n      <td>Glaucoma_064.png</td>\n      <td>glaucoma</td>\n      <td>kaggle_ds/2_glaucoma/Glaucoma_064.png</td>\n    </tr>\n    <tr>\n      <th>99</th>\n      <td>Glaucoma_058.png</td>\n      <td>glaucoma</td>\n      <td>kaggle_ds/2_glaucoma/Glaucoma_058.png</td>\n    </tr>\n    <tr>\n      <th>100</th>\n      <td>Glaucoma_043.png</td>\n      <td>glaucoma</td>\n      <td>kaggle_ds/2_glaucoma/Glaucoma_043.png</td>\n    </tr>\n  </tbody>\n</table>\n<p>293 rows × 3 columns</p>\n</div>"
     },
     "metadata": {},
     "execution_count": 34
    }
   ],
   "source": [
    "glau_df = pd.DataFrame(columns=['filename', 'label', 'path'])\n",
    "\n",
    "for folder in glau_folders:\n",
    "    filenames = os.listdir(folder)\n",
    "    paths = list(map(lambda x: os.path.join(folder, x), filenames))\n",
    "\n",
    "    df = pd.DataFrame({'filename': filenames, 'label': 'glaucoma', 'path': paths}, columns=['filename', 'label', 'path'])\n",
    "    glau_df = glau_df.append(df)\n",
    "\n",
    "glau_df"
   ]
  },
  {
   "cell_type": "code",
   "execution_count": 35,
   "metadata": {},
   "outputs": [
    {
     "output_type": "execute_result",
     "data": {
      "text/plain": "              filename     label                       path\n0             07_g.jpg  glaucoma      HRF_GLAUCOMA/07_g.jpg\n1             05_g.jpg  glaucoma      HRF_GLAUCOMA/05_g.jpg\n2             14_g.jpg  glaucoma      HRF_GLAUCOMA/14_g.jpg\n3             01_g.jpg  glaucoma      HRF_GLAUCOMA/01_g.jpg\n4             06_g.jpg  glaucoma      HRF_GLAUCOMA/06_g.jpg\n..                 ...       ...                        ...\n358  drishtiGS_083.png  glaucoma  Drishti/drishtiGS_083.png\n359  drishtiGS_084.png  glaucoma  Drishti/drishtiGS_084.png\n360  drishtiGS_086.png  glaucoma  Drishti/drishtiGS_086.png\n361  drishtiGS_087.png  glaucoma  Drishti/drishtiGS_087.png\n362  drishtiGS_088.png  glaucoma  Drishti/drishtiGS_088.png\n\n[363 rows x 3 columns]",
      "text/html": "<div>\n<style scoped>\n    .dataframe tbody tr th:only-of-type {\n        vertical-align: middle;\n    }\n\n    .dataframe tbody tr th {\n        vertical-align: top;\n    }\n\n    .dataframe thead th {\n        text-align: right;\n    }\n</style>\n<table border=\"1\" class=\"dataframe\">\n  <thead>\n    <tr style=\"text-align: right;\">\n      <th></th>\n      <th>filename</th>\n      <th>label</th>\n      <th>path</th>\n    </tr>\n  </thead>\n  <tbody>\n    <tr>\n      <th>0</th>\n      <td>07_g.jpg</td>\n      <td>glaucoma</td>\n      <td>HRF_GLAUCOMA/07_g.jpg</td>\n    </tr>\n    <tr>\n      <th>1</th>\n      <td>05_g.jpg</td>\n      <td>glaucoma</td>\n      <td>HRF_GLAUCOMA/05_g.jpg</td>\n    </tr>\n    <tr>\n      <th>2</th>\n      <td>14_g.jpg</td>\n      <td>glaucoma</td>\n      <td>HRF_GLAUCOMA/14_g.jpg</td>\n    </tr>\n    <tr>\n      <th>3</th>\n      <td>01_g.jpg</td>\n      <td>glaucoma</td>\n      <td>HRF_GLAUCOMA/01_g.jpg</td>\n    </tr>\n    <tr>\n      <th>4</th>\n      <td>06_g.jpg</td>\n      <td>glaucoma</td>\n      <td>HRF_GLAUCOMA/06_g.jpg</td>\n    </tr>\n    <tr>\n      <th>...</th>\n      <td>...</td>\n      <td>...</td>\n      <td>...</td>\n    </tr>\n    <tr>\n      <th>358</th>\n      <td>drishtiGS_083.png</td>\n      <td>glaucoma</td>\n      <td>Drishti/drishtiGS_083.png</td>\n    </tr>\n    <tr>\n      <th>359</th>\n      <td>drishtiGS_084.png</td>\n      <td>glaucoma</td>\n      <td>Drishti/drishtiGS_084.png</td>\n    </tr>\n    <tr>\n      <th>360</th>\n      <td>drishtiGS_086.png</td>\n      <td>glaucoma</td>\n      <td>Drishti/drishtiGS_086.png</td>\n    </tr>\n    <tr>\n      <th>361</th>\n      <td>drishtiGS_087.png</td>\n      <td>glaucoma</td>\n      <td>Drishti/drishtiGS_087.png</td>\n    </tr>\n    <tr>\n      <th>362</th>\n      <td>drishtiGS_088.png</td>\n      <td>glaucoma</td>\n      <td>Drishti/drishtiGS_088.png</td>\n    </tr>\n  </tbody>\n</table>\n<p>363 rows × 3 columns</p>\n</div>"
     },
     "metadata": {},
     "execution_count": 35
    }
   ],
   "source": [
    "glau_df = glau_df.append(drishti_glau, ignore_index=True)\n",
    "glau_df"
   ]
  },
  {
   "cell_type": "code",
   "execution_count": 36,
   "metadata": {
    "tags": []
   },
   "outputs": [
    {
     "output_type": "stream",
     "name": "stdout",
     "text": "['ORIGA_NORMAL', 'kaggle_ds/1_normal']\n"
    }
   ],
   "source": [
    "normal_folders = [x for x in os.listdir() if x.endswith('NORMAL')]\n",
    "normal_folders.append(os.path.join('kaggle_ds', '1_normal'))\n",
    "\n",
    "print(normal_folders)"
   ]
  },
  {
   "cell_type": "code",
   "execution_count": 37,
   "metadata": {},
   "outputs": [
    {
     "output_type": "execute_result",
     "data": {
      "text/plain": "             filename   label                           path\n0    Im0176_ORIGA.jpg  normal  ORIGA_NORMAL/Im0176_ORIGA.jpg\n1    Im0277_ORIGA.jpg  normal  ORIGA_NORMAL/Im0277_ORIGA.jpg\n2    Im0166_ORIGA.jpg  normal  ORIGA_NORMAL/Im0166_ORIGA.jpg\n3    Im0156_ORIGA.jpg  normal  ORIGA_NORMAL/Im0156_ORIGA.jpg\n4    Im0439_ORIGA.jpg  normal  ORIGA_NORMAL/Im0439_ORIGA.jpg\n..                ...     ...                            ...\n295        NL_181.png  normal  kaggle_ds/1_normal/NL_181.png\n296        NL_154.png  normal  kaggle_ds/1_normal/NL_154.png\n297        NL_002.png  normal  kaggle_ds/1_normal/NL_002.png\n298        NL_080.png  normal  kaggle_ds/1_normal/NL_080.png\n299        NL_066.png  normal  kaggle_ds/1_normal/NL_066.png\n\n[782 rows x 3 columns]",
      "text/html": "<div>\n<style scoped>\n    .dataframe tbody tr th:only-of-type {\n        vertical-align: middle;\n    }\n\n    .dataframe tbody tr th {\n        vertical-align: top;\n    }\n\n    .dataframe thead th {\n        text-align: right;\n    }\n</style>\n<table border=\"1\" class=\"dataframe\">\n  <thead>\n    <tr style=\"text-align: right;\">\n      <th></th>\n      <th>filename</th>\n      <th>label</th>\n      <th>path</th>\n    </tr>\n  </thead>\n  <tbody>\n    <tr>\n      <th>0</th>\n      <td>Im0176_ORIGA.jpg</td>\n      <td>normal</td>\n      <td>ORIGA_NORMAL/Im0176_ORIGA.jpg</td>\n    </tr>\n    <tr>\n      <th>1</th>\n      <td>Im0277_ORIGA.jpg</td>\n      <td>normal</td>\n      <td>ORIGA_NORMAL/Im0277_ORIGA.jpg</td>\n    </tr>\n    <tr>\n      <th>2</th>\n      <td>Im0166_ORIGA.jpg</td>\n      <td>normal</td>\n      <td>ORIGA_NORMAL/Im0166_ORIGA.jpg</td>\n    </tr>\n    <tr>\n      <th>3</th>\n      <td>Im0156_ORIGA.jpg</td>\n      <td>normal</td>\n      <td>ORIGA_NORMAL/Im0156_ORIGA.jpg</td>\n    </tr>\n    <tr>\n      <th>4</th>\n      <td>Im0439_ORIGA.jpg</td>\n      <td>normal</td>\n      <td>ORIGA_NORMAL/Im0439_ORIGA.jpg</td>\n    </tr>\n    <tr>\n      <th>...</th>\n      <td>...</td>\n      <td>...</td>\n      <td>...</td>\n    </tr>\n    <tr>\n      <th>295</th>\n      <td>NL_181.png</td>\n      <td>normal</td>\n      <td>kaggle_ds/1_normal/NL_181.png</td>\n    </tr>\n    <tr>\n      <th>296</th>\n      <td>NL_154.png</td>\n      <td>normal</td>\n      <td>kaggle_ds/1_normal/NL_154.png</td>\n    </tr>\n    <tr>\n      <th>297</th>\n      <td>NL_002.png</td>\n      <td>normal</td>\n      <td>kaggle_ds/1_normal/NL_002.png</td>\n    </tr>\n    <tr>\n      <th>298</th>\n      <td>NL_080.png</td>\n      <td>normal</td>\n      <td>kaggle_ds/1_normal/NL_080.png</td>\n    </tr>\n    <tr>\n      <th>299</th>\n      <td>NL_066.png</td>\n      <td>normal</td>\n      <td>kaggle_ds/1_normal/NL_066.png</td>\n    </tr>\n  </tbody>\n</table>\n<p>782 rows × 3 columns</p>\n</div>"
     },
     "metadata": {},
     "execution_count": 37
    }
   ],
   "source": [
    "normal_df = pd.DataFrame(columns=['filename', 'label', 'path'])\n",
    "\n",
    "for folder in normal_folders:\n",
    "    filenames = os.listdir(folder)\n",
    "    paths = list(map(lambda x: os.path.join(folder, x), filenames))\n",
    "\n",
    "    df = pd.DataFrame({'filename': filenames, 'label': 'normal', 'path': paths}, columns=['filename', 'label', 'path'])\n",
    "    normal_df = normal_df.append(df)\n",
    "\n",
    "normal_df"
   ]
  },
  {
   "cell_type": "code",
   "execution_count": 38,
   "metadata": {},
   "outputs": [
    {
     "output_type": "execute_result",
     "data": {
      "text/plain": "              filename   label                           path\n0     Im0176_ORIGA.jpg  normal  ORIGA_NORMAL/Im0176_ORIGA.jpg\n1     Im0277_ORIGA.jpg  normal  ORIGA_NORMAL/Im0277_ORIGA.jpg\n2     Im0166_ORIGA.jpg  normal  ORIGA_NORMAL/Im0166_ORIGA.jpg\n3     Im0156_ORIGA.jpg  normal  ORIGA_NORMAL/Im0156_ORIGA.jpg\n4     Im0439_ORIGA.jpg  normal  ORIGA_NORMAL/Im0439_ORIGA.jpg\n..                 ...     ...                            ...\n808  drishtiGS_097.png  normal      Drishti/drishtiGS_097.png\n809  drishtiGS_098.png  normal      Drishti/drishtiGS_098.png\n810  drishtiGS_099.png  normal      Drishti/drishtiGS_099.png\n811  drishtiGS_100.png  normal      Drishti/drishtiGS_100.png\n812  drishtiGS_101.png  normal      Drishti/drishtiGS_101.png\n\n[813 rows x 3 columns]",
      "text/html": "<div>\n<style scoped>\n    .dataframe tbody tr th:only-of-type {\n        vertical-align: middle;\n    }\n\n    .dataframe tbody tr th {\n        vertical-align: top;\n    }\n\n    .dataframe thead th {\n        text-align: right;\n    }\n</style>\n<table border=\"1\" class=\"dataframe\">\n  <thead>\n    <tr style=\"text-align: right;\">\n      <th></th>\n      <th>filename</th>\n      <th>label</th>\n      <th>path</th>\n    </tr>\n  </thead>\n  <tbody>\n    <tr>\n      <th>0</th>\n      <td>Im0176_ORIGA.jpg</td>\n      <td>normal</td>\n      <td>ORIGA_NORMAL/Im0176_ORIGA.jpg</td>\n    </tr>\n    <tr>\n      <th>1</th>\n      <td>Im0277_ORIGA.jpg</td>\n      <td>normal</td>\n      <td>ORIGA_NORMAL/Im0277_ORIGA.jpg</td>\n    </tr>\n    <tr>\n      <th>2</th>\n      <td>Im0166_ORIGA.jpg</td>\n      <td>normal</td>\n      <td>ORIGA_NORMAL/Im0166_ORIGA.jpg</td>\n    </tr>\n    <tr>\n      <th>3</th>\n      <td>Im0156_ORIGA.jpg</td>\n      <td>normal</td>\n      <td>ORIGA_NORMAL/Im0156_ORIGA.jpg</td>\n    </tr>\n    <tr>\n      <th>4</th>\n      <td>Im0439_ORIGA.jpg</td>\n      <td>normal</td>\n      <td>ORIGA_NORMAL/Im0439_ORIGA.jpg</td>\n    </tr>\n    <tr>\n      <th>...</th>\n      <td>...</td>\n      <td>...</td>\n      <td>...</td>\n    </tr>\n    <tr>\n      <th>808</th>\n      <td>drishtiGS_097.png</td>\n      <td>normal</td>\n      <td>Drishti/drishtiGS_097.png</td>\n    </tr>\n    <tr>\n      <th>809</th>\n      <td>drishtiGS_098.png</td>\n      <td>normal</td>\n      <td>Drishti/drishtiGS_098.png</td>\n    </tr>\n    <tr>\n      <th>810</th>\n      <td>drishtiGS_099.png</td>\n      <td>normal</td>\n      <td>Drishti/drishtiGS_099.png</td>\n    </tr>\n    <tr>\n      <th>811</th>\n      <td>drishtiGS_100.png</td>\n      <td>normal</td>\n      <td>Drishti/drishtiGS_100.png</td>\n    </tr>\n    <tr>\n      <th>812</th>\n      <td>drishtiGS_101.png</td>\n      <td>normal</td>\n      <td>Drishti/drishtiGS_101.png</td>\n    </tr>\n  </tbody>\n</table>\n<p>813 rows × 3 columns</p>\n</div>"
     },
     "metadata": {},
     "execution_count": 38
    }
   ],
   "source": [
    "normal_df = normal_df.append(drishti_norm, ignore_index=True)\n",
    "normal_df"
   ]
  },
  {
   "cell_type": "code",
   "execution_count": 39,
   "metadata": {},
   "outputs": [
    {
     "output_type": "execute_result",
     "data": {
      "text/plain": "               filename     label                       path\n0              07_g.jpg  glaucoma      HRF_GLAUCOMA/07_g.jpg\n1              05_g.jpg  glaucoma      HRF_GLAUCOMA/05_g.jpg\n2              14_g.jpg  glaucoma      HRF_GLAUCOMA/14_g.jpg\n3              01_g.jpg  glaucoma      HRF_GLAUCOMA/01_g.jpg\n4              06_g.jpg  glaucoma      HRF_GLAUCOMA/06_g.jpg\n...                 ...       ...                        ...\n1171  drishtiGS_097.png    normal  Drishti/drishtiGS_097.png\n1172  drishtiGS_098.png    normal  Drishti/drishtiGS_098.png\n1173  drishtiGS_099.png    normal  Drishti/drishtiGS_099.png\n1174  drishtiGS_100.png    normal  Drishti/drishtiGS_100.png\n1175  drishtiGS_101.png    normal  Drishti/drishtiGS_101.png\n\n[1176 rows x 3 columns]",
      "text/html": "<div>\n<style scoped>\n    .dataframe tbody tr th:only-of-type {\n        vertical-align: middle;\n    }\n\n    .dataframe tbody tr th {\n        vertical-align: top;\n    }\n\n    .dataframe thead th {\n        text-align: right;\n    }\n</style>\n<table border=\"1\" class=\"dataframe\">\n  <thead>\n    <tr style=\"text-align: right;\">\n      <th></th>\n      <th>filename</th>\n      <th>label</th>\n      <th>path</th>\n    </tr>\n  </thead>\n  <tbody>\n    <tr>\n      <th>0</th>\n      <td>07_g.jpg</td>\n      <td>glaucoma</td>\n      <td>HRF_GLAUCOMA/07_g.jpg</td>\n    </tr>\n    <tr>\n      <th>1</th>\n      <td>05_g.jpg</td>\n      <td>glaucoma</td>\n      <td>HRF_GLAUCOMA/05_g.jpg</td>\n    </tr>\n    <tr>\n      <th>2</th>\n      <td>14_g.jpg</td>\n      <td>glaucoma</td>\n      <td>HRF_GLAUCOMA/14_g.jpg</td>\n    </tr>\n    <tr>\n      <th>3</th>\n      <td>01_g.jpg</td>\n      <td>glaucoma</td>\n      <td>HRF_GLAUCOMA/01_g.jpg</td>\n    </tr>\n    <tr>\n      <th>4</th>\n      <td>06_g.jpg</td>\n      <td>glaucoma</td>\n      <td>HRF_GLAUCOMA/06_g.jpg</td>\n    </tr>\n    <tr>\n      <th>...</th>\n      <td>...</td>\n      <td>...</td>\n      <td>...</td>\n    </tr>\n    <tr>\n      <th>1171</th>\n      <td>drishtiGS_097.png</td>\n      <td>normal</td>\n      <td>Drishti/drishtiGS_097.png</td>\n    </tr>\n    <tr>\n      <th>1172</th>\n      <td>drishtiGS_098.png</td>\n      <td>normal</td>\n      <td>Drishti/drishtiGS_098.png</td>\n    </tr>\n    <tr>\n      <th>1173</th>\n      <td>drishtiGS_099.png</td>\n      <td>normal</td>\n      <td>Drishti/drishtiGS_099.png</td>\n    </tr>\n    <tr>\n      <th>1174</th>\n      <td>drishtiGS_100.png</td>\n      <td>normal</td>\n      <td>Drishti/drishtiGS_100.png</td>\n    </tr>\n    <tr>\n      <th>1175</th>\n      <td>drishtiGS_101.png</td>\n      <td>normal</td>\n      <td>Drishti/drishtiGS_101.png</td>\n    </tr>\n  </tbody>\n</table>\n<p>1176 rows × 3 columns</p>\n</div>"
     },
     "metadata": {},
     "execution_count": 39
    }
   ],
   "source": [
    "df = pd.concat([glau_df, normal_df], ignore_index=True)\n",
    "df"
   ]
  },
  {
   "cell_type": "code",
   "execution_count": 40,
   "metadata": {},
   "outputs": [
    {
     "output_type": "execute_result",
     "data": {
      "text/plain": "          filename  path\nlabel                   \nglaucoma       363   363\nnormal         813   813",
      "text/html": "<div>\n<style scoped>\n    .dataframe tbody tr th:only-of-type {\n        vertical-align: middle;\n    }\n\n    .dataframe tbody tr th {\n        vertical-align: top;\n    }\n\n    .dataframe thead th {\n        text-align: right;\n    }\n</style>\n<table border=\"1\" class=\"dataframe\">\n  <thead>\n    <tr style=\"text-align: right;\">\n      <th></th>\n      <th>filename</th>\n      <th>path</th>\n    </tr>\n    <tr>\n      <th>label</th>\n      <th></th>\n      <th></th>\n    </tr>\n  </thead>\n  <tbody>\n    <tr>\n      <th>glaucoma</th>\n      <td>363</td>\n      <td>363</td>\n    </tr>\n    <tr>\n      <th>normal</th>\n      <td>813</td>\n      <td>813</td>\n    </tr>\n  </tbody>\n</table>\n</div>"
     },
     "metadata": {},
     "execution_count": 40
    }
   ],
   "source": [
    "df.groupby('label').count()"
   ]
  },
  {
   "cell_type": "code",
   "execution_count": 41,
   "metadata": {
    "tags": []
   },
   "outputs": [
    {
     "output_type": "execute_result",
     "data": {
      "text/plain": "               filename     label                       path  label_encoded\n0              07_g.jpg  glaucoma      HRF_GLAUCOMA/07_g.jpg              1\n1              05_g.jpg  glaucoma      HRF_GLAUCOMA/05_g.jpg              1\n2              14_g.jpg  glaucoma      HRF_GLAUCOMA/14_g.jpg              1\n3              01_g.jpg  glaucoma      HRF_GLAUCOMA/01_g.jpg              1\n4              06_g.jpg  glaucoma      HRF_GLAUCOMA/06_g.jpg              1\n...                 ...       ...                        ...            ...\n1171  drishtiGS_097.png    normal  Drishti/drishtiGS_097.png              0\n1172  drishtiGS_098.png    normal  Drishti/drishtiGS_098.png              0\n1173  drishtiGS_099.png    normal  Drishti/drishtiGS_099.png              0\n1174  drishtiGS_100.png    normal  Drishti/drishtiGS_100.png              0\n1175  drishtiGS_101.png    normal  Drishti/drishtiGS_101.png              0\n\n[1176 rows x 4 columns]",
      "text/html": "<div>\n<style scoped>\n    .dataframe tbody tr th:only-of-type {\n        vertical-align: middle;\n    }\n\n    .dataframe tbody tr th {\n        vertical-align: top;\n    }\n\n    .dataframe thead th {\n        text-align: right;\n    }\n</style>\n<table border=\"1\" class=\"dataframe\">\n  <thead>\n    <tr style=\"text-align: right;\">\n      <th></th>\n      <th>filename</th>\n      <th>label</th>\n      <th>path</th>\n      <th>label_encoded</th>\n    </tr>\n  </thead>\n  <tbody>\n    <tr>\n      <th>0</th>\n      <td>07_g.jpg</td>\n      <td>glaucoma</td>\n      <td>HRF_GLAUCOMA/07_g.jpg</td>\n      <td>1</td>\n    </tr>\n    <tr>\n      <th>1</th>\n      <td>05_g.jpg</td>\n      <td>glaucoma</td>\n      <td>HRF_GLAUCOMA/05_g.jpg</td>\n      <td>1</td>\n    </tr>\n    <tr>\n      <th>2</th>\n      <td>14_g.jpg</td>\n      <td>glaucoma</td>\n      <td>HRF_GLAUCOMA/14_g.jpg</td>\n      <td>1</td>\n    </tr>\n    <tr>\n      <th>3</th>\n      <td>01_g.jpg</td>\n      <td>glaucoma</td>\n      <td>HRF_GLAUCOMA/01_g.jpg</td>\n      <td>1</td>\n    </tr>\n    <tr>\n      <th>4</th>\n      <td>06_g.jpg</td>\n      <td>glaucoma</td>\n      <td>HRF_GLAUCOMA/06_g.jpg</td>\n      <td>1</td>\n    </tr>\n    <tr>\n      <th>...</th>\n      <td>...</td>\n      <td>...</td>\n      <td>...</td>\n      <td>...</td>\n    </tr>\n    <tr>\n      <th>1171</th>\n      <td>drishtiGS_097.png</td>\n      <td>normal</td>\n      <td>Drishti/drishtiGS_097.png</td>\n      <td>0</td>\n    </tr>\n    <tr>\n      <th>1172</th>\n      <td>drishtiGS_098.png</td>\n      <td>normal</td>\n      <td>Drishti/drishtiGS_098.png</td>\n      <td>0</td>\n    </tr>\n    <tr>\n      <th>1173</th>\n      <td>drishtiGS_099.png</td>\n      <td>normal</td>\n      <td>Drishti/drishtiGS_099.png</td>\n      <td>0</td>\n    </tr>\n    <tr>\n      <th>1174</th>\n      <td>drishtiGS_100.png</td>\n      <td>normal</td>\n      <td>Drishti/drishtiGS_100.png</td>\n      <td>0</td>\n    </tr>\n    <tr>\n      <th>1175</th>\n      <td>drishtiGS_101.png</td>\n      <td>normal</td>\n      <td>Drishti/drishtiGS_101.png</td>\n      <td>0</td>\n    </tr>\n  </tbody>\n</table>\n<p>1176 rows × 4 columns</p>\n</div>"
     },
     "metadata": {},
     "execution_count": 41
    }
   ],
   "source": [
    "df['label_encoded'] = (df['label'] == 'glaucoma').astype(int)\n",
    "df"
   ]
  },
  {
   "cell_type": "code",
   "execution_count": 42,
   "metadata": {},
   "outputs": [
    {
     "output_type": "execute_result",
     "data": {
      "text/plain": "               filename     label                                   path  \\\n0            NL_204.png    normal          kaggle_ds/1_normal/NL_204.png   \n1      Im0014_ORIGA.jpg    normal          ORIGA_NORMAL/Im0014_ORIGA.jpg   \n2      Im0266_ORIGA.jpg    normal          ORIGA_NORMAL/Im0266_ORIGA.jpg   \n3      Im0128_ORIGA.jpg    normal          ORIGA_NORMAL/Im0128_ORIGA.jpg   \n4      Im0462_ORIGA.jpg    normal          ORIGA_NORMAL/Im0462_ORIGA.jpg   \n..                  ...       ...                                    ...   \n145  Im0637_g_ORIGA.jpg  glaucoma      ORIGA_GLAUCOMA/Im0637_g_ORIGA.jpg   \n146  Im0635_g_ORIGA.jpg  glaucoma      ORIGA_GLAUCOMA/Im0635_g_ORIGA.jpg   \n147    Glaucoma_033.png  glaucoma  kaggle_ds/2_glaucoma/Glaucoma_033.png   \n148  Im0523_g_ORIGA.jpg  glaucoma      ORIGA_GLAUCOMA/Im0523_g_ORIGA.jpg   \n149   drishtiGS_076.png  glaucoma              Drishti/drishtiGS_076.png   \n\n    label_encoded  \n0               0  \n1               0  \n2               0  \n3               0  \n4               0  \n..            ...  \n145             1  \n146             1  \n147             1  \n148             1  \n149             1  \n\n[150 rows x 4 columns]",
      "text/html": "<div>\n<style scoped>\n    .dataframe tbody tr th:only-of-type {\n        vertical-align: middle;\n    }\n\n    .dataframe tbody tr th {\n        vertical-align: top;\n    }\n\n    .dataframe thead th {\n        text-align: right;\n    }\n</style>\n<table border=\"1\" class=\"dataframe\">\n  <thead>\n    <tr style=\"text-align: right;\">\n      <th></th>\n      <th>filename</th>\n      <th>label</th>\n      <th>path</th>\n      <th>label_encoded</th>\n    </tr>\n  </thead>\n  <tbody>\n    <tr>\n      <th>0</th>\n      <td>NL_204.png</td>\n      <td>normal</td>\n      <td>kaggle_ds/1_normal/NL_204.png</td>\n      <td>0</td>\n    </tr>\n    <tr>\n      <th>1</th>\n      <td>Im0014_ORIGA.jpg</td>\n      <td>normal</td>\n      <td>ORIGA_NORMAL/Im0014_ORIGA.jpg</td>\n      <td>0</td>\n    </tr>\n    <tr>\n      <th>2</th>\n      <td>Im0266_ORIGA.jpg</td>\n      <td>normal</td>\n      <td>ORIGA_NORMAL/Im0266_ORIGA.jpg</td>\n      <td>0</td>\n    </tr>\n    <tr>\n      <th>3</th>\n      <td>Im0128_ORIGA.jpg</td>\n      <td>normal</td>\n      <td>ORIGA_NORMAL/Im0128_ORIGA.jpg</td>\n      <td>0</td>\n    </tr>\n    <tr>\n      <th>4</th>\n      <td>Im0462_ORIGA.jpg</td>\n      <td>normal</td>\n      <td>ORIGA_NORMAL/Im0462_ORIGA.jpg</td>\n      <td>0</td>\n    </tr>\n    <tr>\n      <th>...</th>\n      <td>...</td>\n      <td>...</td>\n      <td>...</td>\n      <td>...</td>\n    </tr>\n    <tr>\n      <th>145</th>\n      <td>Im0637_g_ORIGA.jpg</td>\n      <td>glaucoma</td>\n      <td>ORIGA_GLAUCOMA/Im0637_g_ORIGA.jpg</td>\n      <td>1</td>\n    </tr>\n    <tr>\n      <th>146</th>\n      <td>Im0635_g_ORIGA.jpg</td>\n      <td>glaucoma</td>\n      <td>ORIGA_GLAUCOMA/Im0635_g_ORIGA.jpg</td>\n      <td>1</td>\n    </tr>\n    <tr>\n      <th>147</th>\n      <td>Glaucoma_033.png</td>\n      <td>glaucoma</td>\n      <td>kaggle_ds/2_glaucoma/Glaucoma_033.png</td>\n      <td>1</td>\n    </tr>\n    <tr>\n      <th>148</th>\n      <td>Im0523_g_ORIGA.jpg</td>\n      <td>glaucoma</td>\n      <td>ORIGA_GLAUCOMA/Im0523_g_ORIGA.jpg</td>\n      <td>1</td>\n    </tr>\n    <tr>\n      <th>149</th>\n      <td>drishtiGS_076.png</td>\n      <td>glaucoma</td>\n      <td>Drishti/drishtiGS_076.png</td>\n      <td>1</td>\n    </tr>\n  </tbody>\n</table>\n<p>150 rows × 4 columns</p>\n</div>"
     },
     "metadata": {},
     "execution_count": 42
    }
   ],
   "source": [
    "TEST_SIZE = 75\n",
    "test_df = pd.DataFrame(columns=df.columns)\n",
    "\n",
    "for i in range(2):\n",
    "    temp_df = df[df['label_encoded'] == i]\n",
    "    temp_df = temp_df.sample(TEST_SIZE, random_state=0)\n",
    "\n",
    "    test_df = test_df.append(temp_df, ignore_index=True)\n",
    "\n",
    "test_df"
   ]
  },
  {
   "cell_type": "code",
   "execution_count": 43,
   "metadata": {},
   "outputs": [
    {
     "output_type": "execute_result",
     "data": {
      "text/plain": "               filename     label                       path  label_encoded\n0              07_g.jpg  glaucoma      HRF_GLAUCOMA/07_g.jpg              1\n1              05_g.jpg  glaucoma      HRF_GLAUCOMA/05_g.jpg              1\n2              14_g.jpg  glaucoma      HRF_GLAUCOMA/14_g.jpg              1\n3              01_g.jpg  glaucoma      HRF_GLAUCOMA/01_g.jpg              1\n4              06_g.jpg  glaucoma      HRF_GLAUCOMA/06_g.jpg              1\n...                 ...       ...                        ...            ...\n1171  drishtiGS_097.png    normal  Drishti/drishtiGS_097.png              0\n1172  drishtiGS_098.png    normal  Drishti/drishtiGS_098.png              0\n1173  drishtiGS_099.png    normal  Drishti/drishtiGS_099.png              0\n1174  drishtiGS_100.png    normal  Drishti/drishtiGS_100.png              0\n1175  drishtiGS_101.png    normal  Drishti/drishtiGS_101.png              0\n\n[1026 rows x 4 columns]",
      "text/html": "<div>\n<style scoped>\n    .dataframe tbody tr th:only-of-type {\n        vertical-align: middle;\n    }\n\n    .dataframe tbody tr th {\n        vertical-align: top;\n    }\n\n    .dataframe thead th {\n        text-align: right;\n    }\n</style>\n<table border=\"1\" class=\"dataframe\">\n  <thead>\n    <tr style=\"text-align: right;\">\n      <th></th>\n      <th>filename</th>\n      <th>label</th>\n      <th>path</th>\n      <th>label_encoded</th>\n    </tr>\n  </thead>\n  <tbody>\n    <tr>\n      <th>0</th>\n      <td>07_g.jpg</td>\n      <td>glaucoma</td>\n      <td>HRF_GLAUCOMA/07_g.jpg</td>\n      <td>1</td>\n    </tr>\n    <tr>\n      <th>1</th>\n      <td>05_g.jpg</td>\n      <td>glaucoma</td>\n      <td>HRF_GLAUCOMA/05_g.jpg</td>\n      <td>1</td>\n    </tr>\n    <tr>\n      <th>2</th>\n      <td>14_g.jpg</td>\n      <td>glaucoma</td>\n      <td>HRF_GLAUCOMA/14_g.jpg</td>\n      <td>1</td>\n    </tr>\n    <tr>\n      <th>3</th>\n      <td>01_g.jpg</td>\n      <td>glaucoma</td>\n      <td>HRF_GLAUCOMA/01_g.jpg</td>\n      <td>1</td>\n    </tr>\n    <tr>\n      <th>4</th>\n      <td>06_g.jpg</td>\n      <td>glaucoma</td>\n      <td>HRF_GLAUCOMA/06_g.jpg</td>\n      <td>1</td>\n    </tr>\n    <tr>\n      <th>...</th>\n      <td>...</td>\n      <td>...</td>\n      <td>...</td>\n      <td>...</td>\n    </tr>\n    <tr>\n      <th>1171</th>\n      <td>drishtiGS_097.png</td>\n      <td>normal</td>\n      <td>Drishti/drishtiGS_097.png</td>\n      <td>0</td>\n    </tr>\n    <tr>\n      <th>1172</th>\n      <td>drishtiGS_098.png</td>\n      <td>normal</td>\n      <td>Drishti/drishtiGS_098.png</td>\n      <td>0</td>\n    </tr>\n    <tr>\n      <th>1173</th>\n      <td>drishtiGS_099.png</td>\n      <td>normal</td>\n      <td>Drishti/drishtiGS_099.png</td>\n      <td>0</td>\n    </tr>\n    <tr>\n      <th>1174</th>\n      <td>drishtiGS_100.png</td>\n      <td>normal</td>\n      <td>Drishti/drishtiGS_100.png</td>\n      <td>0</td>\n    </tr>\n    <tr>\n      <th>1175</th>\n      <td>drishtiGS_101.png</td>\n      <td>normal</td>\n      <td>Drishti/drishtiGS_101.png</td>\n      <td>0</td>\n    </tr>\n  </tbody>\n</table>\n<p>1026 rows × 4 columns</p>\n</div>"
     },
     "metadata": {},
     "execution_count": 43
    }
   ],
   "source": [
    "train_df = df[~df['path'].isin(test_df['path'])]\n",
    "train_df"
   ]
  },
  {
   "cell_type": "code",
   "execution_count": 44,
   "metadata": {},
   "outputs": [],
   "source": [
    "test_df.to_csv('glaucoma_test.csv', index=False)\n",
    "train_df.to_csv('glaucoma_train.csv', index=False)"
   ]
  },
  {
   "cell_type": "code",
   "execution_count": null,
   "metadata": {},
   "outputs": [],
   "source": []
  }
 ]
}
{
 "metadata": {
  "language_info": {
   "codemirror_mode": {
    "name": "ipython",
    "version": 3
   },
   "file_extension": ".py",
   "mimetype": "text/x-python",
   "name": "python",
   "nbconvert_exporter": "python",
   "pygments_lexer": "ipython3",
   "version": 3
  },
  "orig_nbformat": 2,
  "kernelspec": {
   "name": "python_defaultSpec_1595675507058",
   "display_name": "Python 3.7.6 64-bit ('anaconda3': conda)"
  }
 },
 "nbformat": 4,
 "nbformat_minor": 2,
 "cells": [
  {
   "cell_type": "markdown",
   "metadata": {},
   "source": [
    "This notebook prepares a train and test dataframe from the following sources:\n",
    "- `DR_HAGIS_GLAUCOMA`\n",
    "- `HRF_GLAUCOMA`\n",
    "- `kaggle_ds/1_normal` and `kaggle_ds/2_glaucoma`\n",
    "- `ORIGA_GLAUCOMA`\n",
    "- `ORIGA_NORMAL`"
   ]
  },
  {
   "cell_type": "code",
   "execution_count": 1,
   "metadata": {},
   "outputs": [],
   "source": [
    "import os\n",
    "\n",
    "import pandas as pd\n",
    "import matplotlib.pyplot as plt"
   ]
  },
  {
   "cell_type": "code",
   "execution_count": 4,
   "metadata": {
    "tags": []
   },
   "outputs": [
    {
     "output_type": "stream",
     "name": "stdout",
     "text": "['HRF_GLAUCOMA', 'ORIGA_GLAUCOMA', 'DR_HAGIS_GLAUCOMA', 'kaggle_ds/2_glaucoma']\n"
    }
   ],
   "source": [
    "glau_folders = [x for x in os.listdir() if x.endswith('GLAUCOMA')]\n",
    "glau_folders.append(os.path.join('kaggle_ds', '2_glaucoma'))\n",
    "\n",
    "print(glau_folders)"
   ]
  },
  {
   "cell_type": "code",
   "execution_count": 7,
   "metadata": {},
   "outputs": [
    {
     "output_type": "execute_result",
     "data": {
      "text/plain": "             filename     label                                   path\n0            07_g.jpg  glaucoma                  HRF_GLAUCOMA/07_g.jpg\n1            05_g.jpg  glaucoma                  HRF_GLAUCOMA/05_g.jpg\n2            14_g.jpg  glaucoma                  HRF_GLAUCOMA/14_g.jpg\n3            01_g.jpg  glaucoma                  HRF_GLAUCOMA/01_g.jpg\n4            06_g.jpg  glaucoma                  HRF_GLAUCOMA/06_g.jpg\n..                ...       ...                                    ...\n96   Glaucoma_044.png  glaucoma  kaggle_ds/2_glaucoma/Glaucoma_044.png\n97   Glaucoma_060.png  glaucoma  kaggle_ds/2_glaucoma/Glaucoma_060.png\n98   Glaucoma_064.png  glaucoma  kaggle_ds/2_glaucoma/Glaucoma_064.png\n99   Glaucoma_058.png  glaucoma  kaggle_ds/2_glaucoma/Glaucoma_058.png\n100  Glaucoma_043.png  glaucoma  kaggle_ds/2_glaucoma/Glaucoma_043.png\n\n[293 rows x 3 columns]",
      "text/html": "<div>\n<style scoped>\n    .dataframe tbody tr th:only-of-type {\n        vertical-align: middle;\n    }\n\n    .dataframe tbody tr th {\n        vertical-align: top;\n    }\n\n    .dataframe thead th {\n        text-align: right;\n    }\n</style>\n<table border=\"1\" class=\"dataframe\">\n  <thead>\n    <tr style=\"text-align: right;\">\n      <th></th>\n      <th>filename</th>\n      <th>label</th>\n      <th>path</th>\n    </tr>\n  </thead>\n  <tbody>\n    <tr>\n      <th>0</th>\n      <td>07_g.jpg</td>\n      <td>glaucoma</td>\n      <td>HRF_GLAUCOMA/07_g.jpg</td>\n    </tr>\n    <tr>\n      <th>1</th>\n      <td>05_g.jpg</td>\n      <td>glaucoma</td>\n      <td>HRF_GLAUCOMA/05_g.jpg</td>\n    </tr>\n    <tr>\n      <th>2</th>\n      <td>14_g.jpg</td>\n      <td>glaucoma</td>\n      <td>HRF_GLAUCOMA/14_g.jpg</td>\n    </tr>\n    <tr>\n      <th>3</th>\n      <td>01_g.jpg</td>\n      <td>glaucoma</td>\n      <td>HRF_GLAUCOMA/01_g.jpg</td>\n    </tr>\n    <tr>\n      <th>4</th>\n      <td>06_g.jpg</td>\n      <td>glaucoma</td>\n      <td>HRF_GLAUCOMA/06_g.jpg</td>\n    </tr>\n    <tr>\n      <th>...</th>\n      <td>...</td>\n      <td>...</td>\n      <td>...</td>\n    </tr>\n    <tr>\n      <th>96</th>\n      <td>Glaucoma_044.png</td>\n      <td>glaucoma</td>\n      <td>kaggle_ds/2_glaucoma/Glaucoma_044.png</td>\n    </tr>\n    <tr>\n      <th>97</th>\n      <td>Glaucoma_060.png</td>\n      <td>glaucoma</td>\n      <td>kaggle_ds/2_glaucoma/Glaucoma_060.png</td>\n    </tr>\n    <tr>\n      <th>98</th>\n      <td>Glaucoma_064.png</td>\n      <td>glaucoma</td>\n      <td>kaggle_ds/2_glaucoma/Glaucoma_064.png</td>\n    </tr>\n    <tr>\n      <th>99</th>\n      <td>Glaucoma_058.png</td>\n      <td>glaucoma</td>\n      <td>kaggle_ds/2_glaucoma/Glaucoma_058.png</td>\n    </tr>\n    <tr>\n      <th>100</th>\n      <td>Glaucoma_043.png</td>\n      <td>glaucoma</td>\n      <td>kaggle_ds/2_glaucoma/Glaucoma_043.png</td>\n    </tr>\n  </tbody>\n</table>\n<p>293 rows × 3 columns</p>\n</div>"
     },
     "metadata": {},
     "execution_count": 7
    }
   ],
   "source": [
    "glau_df = pd.DataFrame(columns=['filename', 'label', 'path'])\n",
    "\n",
    "for folder in glau_folders:\n",
    "    filenames = os.listdir(folder)\n",
    "    paths = list(map(lambda x: os.path.join(folder, x), filenames))\n",
    "\n",
    "    df = pd.DataFrame({'filename': filenames, 'label': 'glaucoma', 'path': paths}, columns=['filename', 'label', 'path'])\n",
    "    glau_df = glau_df.append(df)\n",
    "\n",
    "glau_df"
   ]
  },
  {
   "cell_type": "code",
   "execution_count": 8,
   "metadata": {
    "tags": []
   },
   "outputs": [
    {
     "output_type": "stream",
     "name": "stdout",
     "text": "['ORIGA_NORMAL', 'kaggle_ds/1_normal']\n"
    }
   ],
   "source": [
    "normal_folders = [x for x in os.listdir() if x.endswith('NORMAL')]\n",
    "normal_folders.append(os.path.join('kaggle_ds', '1_normal'))\n",
    "\n",
    "print(normal_folders)"
   ]
  },
  {
   "cell_type": "code",
   "execution_count": 9,
   "metadata": {},
   "outputs": [
    {
     "output_type": "execute_result",
     "data": {
      "text/plain": "             filename   label                           path\n0    Im0176_ORIGA.jpg  normal  ORIGA_NORMAL/Im0176_ORIGA.jpg\n1    Im0277_ORIGA.jpg  normal  ORIGA_NORMAL/Im0277_ORIGA.jpg\n2    Im0166_ORIGA.jpg  normal  ORIGA_NORMAL/Im0166_ORIGA.jpg\n3    Im0156_ORIGA.jpg  normal  ORIGA_NORMAL/Im0156_ORIGA.jpg\n4    Im0439_ORIGA.jpg  normal  ORIGA_NORMAL/Im0439_ORIGA.jpg\n..                ...     ...                            ...\n295        NL_181.png  normal  kaggle_ds/1_normal/NL_181.png\n296        NL_154.png  normal  kaggle_ds/1_normal/NL_154.png\n297        NL_002.png  normal  kaggle_ds/1_normal/NL_002.png\n298        NL_080.png  normal  kaggle_ds/1_normal/NL_080.png\n299        NL_066.png  normal  kaggle_ds/1_normal/NL_066.png\n\n[782 rows x 3 columns]",
      "text/html": "<div>\n<style scoped>\n    .dataframe tbody tr th:only-of-type {\n        vertical-align: middle;\n    }\n\n    .dataframe tbody tr th {\n        vertical-align: top;\n    }\n\n    .dataframe thead th {\n        text-align: right;\n    }\n</style>\n<table border=\"1\" class=\"dataframe\">\n  <thead>\n    <tr style=\"text-align: right;\">\n      <th></th>\n      <th>filename</th>\n      <th>label</th>\n      <th>path</th>\n    </tr>\n  </thead>\n  <tbody>\n    <tr>\n      <th>0</th>\n      <td>Im0176_ORIGA.jpg</td>\n      <td>normal</td>\n      <td>ORIGA_NORMAL/Im0176_ORIGA.jpg</td>\n    </tr>\n    <tr>\n      <th>1</th>\n      <td>Im0277_ORIGA.jpg</td>\n      <td>normal</td>\n      <td>ORIGA_NORMAL/Im0277_ORIGA.jpg</td>\n    </tr>\n    <tr>\n      <th>2</th>\n      <td>Im0166_ORIGA.jpg</td>\n      <td>normal</td>\n      <td>ORIGA_NORMAL/Im0166_ORIGA.jpg</td>\n    </tr>\n    <tr>\n      <th>3</th>\n      <td>Im0156_ORIGA.jpg</td>\n      <td>normal</td>\n      <td>ORIGA_NORMAL/Im0156_ORIGA.jpg</td>\n    </tr>\n    <tr>\n      <th>4</th>\n      <td>Im0439_ORIGA.jpg</td>\n      <td>normal</td>\n      <td>ORIGA_NORMAL/Im0439_ORIGA.jpg</td>\n    </tr>\n    <tr>\n      <th>...</th>\n      <td>...</td>\n      <td>...</td>\n      <td>...</td>\n    </tr>\n    <tr>\n      <th>295</th>\n      <td>NL_181.png</td>\n      <td>normal</td>\n      <td>kaggle_ds/1_normal/NL_181.png</td>\n    </tr>\n    <tr>\n      <th>296</th>\n      <td>NL_154.png</td>\n      <td>normal</td>\n      <td>kaggle_ds/1_normal/NL_154.png</td>\n    </tr>\n    <tr>\n      <th>297</th>\n      <td>NL_002.png</td>\n      <td>normal</td>\n      <td>kaggle_ds/1_normal/NL_002.png</td>\n    </tr>\n    <tr>\n      <th>298</th>\n      <td>NL_080.png</td>\n      <td>normal</td>\n      <td>kaggle_ds/1_normal/NL_080.png</td>\n    </tr>\n    <tr>\n      <th>299</th>\n      <td>NL_066.png</td>\n      <td>normal</td>\n      <td>kaggle_ds/1_normal/NL_066.png</td>\n    </tr>\n  </tbody>\n</table>\n<p>782 rows × 3 columns</p>\n</div>"
     },
     "metadata": {},
     "execution_count": 9
    }
   ],
   "source": [
    "normal_df = pd.DataFrame(columns=['filename', 'label', 'path'])\n",
    "\n",
    "for folder in normal_folders:\n",
    "    filenames = os.listdir(folder)\n",
    "    paths = list(map(lambda x: os.path.join(folder, x), filenames))\n",
    "\n",
    "    df = pd.DataFrame({'filename': filenames, 'label': 'normal', 'path': paths}, columns=['filename', 'label', 'path'])\n",
    "    normal_df = normal_df.append(df)\n",
    "\n",
    "normal_df"
   ]
  },
  {
   "cell_type": "code",
   "execution_count": 10,
   "metadata": {},
   "outputs": [
    {
     "output_type": "execute_result",
     "data": {
      "text/plain": "        filename     label                           path\n0       07_g.jpg  glaucoma          HRF_GLAUCOMA/07_g.jpg\n1       05_g.jpg  glaucoma          HRF_GLAUCOMA/05_g.jpg\n2       14_g.jpg  glaucoma          HRF_GLAUCOMA/14_g.jpg\n3       01_g.jpg  glaucoma          HRF_GLAUCOMA/01_g.jpg\n4       06_g.jpg  glaucoma          HRF_GLAUCOMA/06_g.jpg\n...          ...       ...                            ...\n1070  NL_181.png    normal  kaggle_ds/1_normal/NL_181.png\n1071  NL_154.png    normal  kaggle_ds/1_normal/NL_154.png\n1072  NL_002.png    normal  kaggle_ds/1_normal/NL_002.png\n1073  NL_080.png    normal  kaggle_ds/1_normal/NL_080.png\n1074  NL_066.png    normal  kaggle_ds/1_normal/NL_066.png\n\n[1075 rows x 3 columns]",
      "text/html": "<div>\n<style scoped>\n    .dataframe tbody tr th:only-of-type {\n        vertical-align: middle;\n    }\n\n    .dataframe tbody tr th {\n        vertical-align: top;\n    }\n\n    .dataframe thead th {\n        text-align: right;\n    }\n</style>\n<table border=\"1\" class=\"dataframe\">\n  <thead>\n    <tr style=\"text-align: right;\">\n      <th></th>\n      <th>filename</th>\n      <th>label</th>\n      <th>path</th>\n    </tr>\n  </thead>\n  <tbody>\n    <tr>\n      <th>0</th>\n      <td>07_g.jpg</td>\n      <td>glaucoma</td>\n      <td>HRF_GLAUCOMA/07_g.jpg</td>\n    </tr>\n    <tr>\n      <th>1</th>\n      <td>05_g.jpg</td>\n      <td>glaucoma</td>\n      <td>HRF_GLAUCOMA/05_g.jpg</td>\n    </tr>\n    <tr>\n      <th>2</th>\n      <td>14_g.jpg</td>\n      <td>glaucoma</td>\n      <td>HRF_GLAUCOMA/14_g.jpg</td>\n    </tr>\n    <tr>\n      <th>3</th>\n      <td>01_g.jpg</td>\n      <td>glaucoma</td>\n      <td>HRF_GLAUCOMA/01_g.jpg</td>\n    </tr>\n    <tr>\n      <th>4</th>\n      <td>06_g.jpg</td>\n      <td>glaucoma</td>\n      <td>HRF_GLAUCOMA/06_g.jpg</td>\n    </tr>\n    <tr>\n      <th>...</th>\n      <td>...</td>\n      <td>...</td>\n      <td>...</td>\n    </tr>\n    <tr>\n      <th>1070</th>\n      <td>NL_181.png</td>\n      <td>normal</td>\n      <td>kaggle_ds/1_normal/NL_181.png</td>\n    </tr>\n    <tr>\n      <th>1071</th>\n      <td>NL_154.png</td>\n      <td>normal</td>\n      <td>kaggle_ds/1_normal/NL_154.png</td>\n    </tr>\n    <tr>\n      <th>1072</th>\n      <td>NL_002.png</td>\n      <td>normal</td>\n      <td>kaggle_ds/1_normal/NL_002.png</td>\n    </tr>\n    <tr>\n      <th>1073</th>\n      <td>NL_080.png</td>\n      <td>normal</td>\n      <td>kaggle_ds/1_normal/NL_080.png</td>\n    </tr>\n    <tr>\n      <th>1074</th>\n      <td>NL_066.png</td>\n      <td>normal</td>\n      <td>kaggle_ds/1_normal/NL_066.png</td>\n    </tr>\n  </tbody>\n</table>\n<p>1075 rows × 3 columns</p>\n</div>"
     },
     "metadata": {},
     "execution_count": 10
    }
   ],
   "source": [
    "df = pd.concat([glau_df, normal_df], ignore_index=True)\n",
    "df"
   ]
  },
  {
   "cell_type": "code",
   "execution_count": 11,
   "metadata": {},
   "outputs": [
    {
     "output_type": "execute_result",
     "data": {
      "text/plain": "          filename  path\nlabel                   \nglaucoma       293   293\nnormal         782   782",
      "text/html": "<div>\n<style scoped>\n    .dataframe tbody tr th:only-of-type {\n        vertical-align: middle;\n    }\n\n    .dataframe tbody tr th {\n        vertical-align: top;\n    }\n\n    .dataframe thead th {\n        text-align: right;\n    }\n</style>\n<table border=\"1\" class=\"dataframe\">\n  <thead>\n    <tr style=\"text-align: right;\">\n      <th></th>\n      <th>filename</th>\n      <th>path</th>\n    </tr>\n    <tr>\n      <th>label</th>\n      <th></th>\n      <th></th>\n    </tr>\n  </thead>\n  <tbody>\n    <tr>\n      <th>glaucoma</th>\n      <td>293</td>\n      <td>293</td>\n    </tr>\n    <tr>\n      <th>normal</th>\n      <td>782</td>\n      <td>782</td>\n    </tr>\n  </tbody>\n</table>\n</div>"
     },
     "metadata": {},
     "execution_count": 11
    }
   ],
   "source": [
    "df.groupby('label').count()"
   ]
  },
  {
   "cell_type": "code",
   "execution_count": 13,
   "metadata": {
    "tags": []
   },
   "outputs": [
    {
     "output_type": "execute_result",
     "data": {
      "text/plain": "        filename     label                           path  label_encoded\n0       07_g.jpg  glaucoma          HRF_GLAUCOMA/07_g.jpg              1\n1       05_g.jpg  glaucoma          HRF_GLAUCOMA/05_g.jpg              1\n2       14_g.jpg  glaucoma          HRF_GLAUCOMA/14_g.jpg              1\n3       01_g.jpg  glaucoma          HRF_GLAUCOMA/01_g.jpg              1\n4       06_g.jpg  glaucoma          HRF_GLAUCOMA/06_g.jpg              1\n...          ...       ...                            ...            ...\n1070  NL_181.png    normal  kaggle_ds/1_normal/NL_181.png              0\n1071  NL_154.png    normal  kaggle_ds/1_normal/NL_154.png              0\n1072  NL_002.png    normal  kaggle_ds/1_normal/NL_002.png              0\n1073  NL_080.png    normal  kaggle_ds/1_normal/NL_080.png              0\n1074  NL_066.png    normal  kaggle_ds/1_normal/NL_066.png              0\n\n[1075 rows x 4 columns]",
      "text/html": "<div>\n<style scoped>\n    .dataframe tbody tr th:only-of-type {\n        vertical-align: middle;\n    }\n\n    .dataframe tbody tr th {\n        vertical-align: top;\n    }\n\n    .dataframe thead th {\n        text-align: right;\n    }\n</style>\n<table border=\"1\" class=\"dataframe\">\n  <thead>\n    <tr style=\"text-align: right;\">\n      <th></th>\n      <th>filename</th>\n      <th>label</th>\n      <th>path</th>\n      <th>label_encoded</th>\n    </tr>\n  </thead>\n  <tbody>\n    <tr>\n      <th>0</th>\n      <td>07_g.jpg</td>\n      <td>glaucoma</td>\n      <td>HRF_GLAUCOMA/07_g.jpg</td>\n      <td>1</td>\n    </tr>\n    <tr>\n      <th>1</th>\n      <td>05_g.jpg</td>\n      <td>glaucoma</td>\n      <td>HRF_GLAUCOMA/05_g.jpg</td>\n      <td>1</td>\n    </tr>\n    <tr>\n      <th>2</th>\n      <td>14_g.jpg</td>\n      <td>glaucoma</td>\n      <td>HRF_GLAUCOMA/14_g.jpg</td>\n      <td>1</td>\n    </tr>\n    <tr>\n      <th>3</th>\n      <td>01_g.jpg</td>\n      <td>glaucoma</td>\n      <td>HRF_GLAUCOMA/01_g.jpg</td>\n      <td>1</td>\n    </tr>\n    <tr>\n      <th>4</th>\n      <td>06_g.jpg</td>\n      <td>glaucoma</td>\n      <td>HRF_GLAUCOMA/06_g.jpg</td>\n      <td>1</td>\n    </tr>\n    <tr>\n      <th>...</th>\n      <td>...</td>\n      <td>...</td>\n      <td>...</td>\n      <td>...</td>\n    </tr>\n    <tr>\n      <th>1070</th>\n      <td>NL_181.png</td>\n      <td>normal</td>\n      <td>kaggle_ds/1_normal/NL_181.png</td>\n      <td>0</td>\n    </tr>\n    <tr>\n      <th>1071</th>\n      <td>NL_154.png</td>\n      <td>normal</td>\n      <td>kaggle_ds/1_normal/NL_154.png</td>\n      <td>0</td>\n    </tr>\n    <tr>\n      <th>1072</th>\n      <td>NL_002.png</td>\n      <td>normal</td>\n      <td>kaggle_ds/1_normal/NL_002.png</td>\n      <td>0</td>\n    </tr>\n    <tr>\n      <th>1073</th>\n      <td>NL_080.png</td>\n      <td>normal</td>\n      <td>kaggle_ds/1_normal/NL_080.png</td>\n      <td>0</td>\n    </tr>\n    <tr>\n      <th>1074</th>\n      <td>NL_066.png</td>\n      <td>normal</td>\n      <td>kaggle_ds/1_normal/NL_066.png</td>\n      <td>0</td>\n    </tr>\n  </tbody>\n</table>\n<p>1075 rows × 4 columns</p>\n</div>"
     },
     "metadata": {},
     "execution_count": 13
    }
   ],
   "source": [
    "df['label_encoded'] = (df['label'] == 'glaucoma').astype(int)\n",
    "df"
   ]
  },
  {
   "cell_type": "code",
   "execution_count": 14,
   "metadata": {},
   "outputs": [
    {
     "output_type": "execute_result",
     "data": {
      "text/plain": "              filename     label                                   path  \\\n0           NL_299.png    normal          kaggle_ds/1_normal/NL_299.png   \n1     Im0016_ORIGA.jpg    normal          ORIGA_NORMAL/Im0016_ORIGA.jpg   \n2           NL_248.png    normal          kaggle_ds/1_normal/NL_248.png   \n3           NL_131.png    normal          kaggle_ds/1_normal/NL_131.png   \n4           NL_161.png    normal          kaggle_ds/1_normal/NL_161.png   \n..                 ...       ...                                    ...   \n95  Im0521_g_ORIGA.jpg  glaucoma      ORIGA_GLAUCOMA/Im0521_g_ORIGA.jpg   \n96            11_g.jpg  glaucoma                  HRF_GLAUCOMA/11_g.jpg   \n97    Glaucoma_087.png  glaucoma  kaggle_ds/2_glaucoma/Glaucoma_087.png   \n98    Glaucoma_050.png  glaucoma  kaggle_ds/2_glaucoma/Glaucoma_050.png   \n99    Glaucoma_089.png  glaucoma  kaggle_ds/2_glaucoma/Glaucoma_089.png   \n\n   label_encoded  \n0              0  \n1              0  \n2              0  \n3              0  \n4              0  \n..           ...  \n95             1  \n96             1  \n97             1  \n98             1  \n99             1  \n\n[100 rows x 4 columns]",
      "text/html": "<div>\n<style scoped>\n    .dataframe tbody tr th:only-of-type {\n        vertical-align: middle;\n    }\n\n    .dataframe tbody tr th {\n        vertical-align: top;\n    }\n\n    .dataframe thead th {\n        text-align: right;\n    }\n</style>\n<table border=\"1\" class=\"dataframe\">\n  <thead>\n    <tr style=\"text-align: right;\">\n      <th></th>\n      <th>filename</th>\n      <th>label</th>\n      <th>path</th>\n      <th>label_encoded</th>\n    </tr>\n  </thead>\n  <tbody>\n    <tr>\n      <th>0</th>\n      <td>NL_299.png</td>\n      <td>normal</td>\n      <td>kaggle_ds/1_normal/NL_299.png</td>\n      <td>0</td>\n    </tr>\n    <tr>\n      <th>1</th>\n      <td>Im0016_ORIGA.jpg</td>\n      <td>normal</td>\n      <td>ORIGA_NORMAL/Im0016_ORIGA.jpg</td>\n      <td>0</td>\n    </tr>\n    <tr>\n      <th>2</th>\n      <td>NL_248.png</td>\n      <td>normal</td>\n      <td>kaggle_ds/1_normal/NL_248.png</td>\n      <td>0</td>\n    </tr>\n    <tr>\n      <th>3</th>\n      <td>NL_131.png</td>\n      <td>normal</td>\n      <td>kaggle_ds/1_normal/NL_131.png</td>\n      <td>0</td>\n    </tr>\n    <tr>\n      <th>4</th>\n      <td>NL_161.png</td>\n      <td>normal</td>\n      <td>kaggle_ds/1_normal/NL_161.png</td>\n      <td>0</td>\n    </tr>\n    <tr>\n      <th>...</th>\n      <td>...</td>\n      <td>...</td>\n      <td>...</td>\n      <td>...</td>\n    </tr>\n    <tr>\n      <th>95</th>\n      <td>Im0521_g_ORIGA.jpg</td>\n      <td>glaucoma</td>\n      <td>ORIGA_GLAUCOMA/Im0521_g_ORIGA.jpg</td>\n      <td>1</td>\n    </tr>\n    <tr>\n      <th>96</th>\n      <td>11_g.jpg</td>\n      <td>glaucoma</td>\n      <td>HRF_GLAUCOMA/11_g.jpg</td>\n      <td>1</td>\n    </tr>\n    <tr>\n      <th>97</th>\n      <td>Glaucoma_087.png</td>\n      <td>glaucoma</td>\n      <td>kaggle_ds/2_glaucoma/Glaucoma_087.png</td>\n      <td>1</td>\n    </tr>\n    <tr>\n      <th>98</th>\n      <td>Glaucoma_050.png</td>\n      <td>glaucoma</td>\n      <td>kaggle_ds/2_glaucoma/Glaucoma_050.png</td>\n      <td>1</td>\n    </tr>\n    <tr>\n      <th>99</th>\n      <td>Glaucoma_089.png</td>\n      <td>glaucoma</td>\n      <td>kaggle_ds/2_glaucoma/Glaucoma_089.png</td>\n      <td>1</td>\n    </tr>\n  </tbody>\n</table>\n<p>100 rows × 4 columns</p>\n</div>"
     },
     "metadata": {},
     "execution_count": 14
    }
   ],
   "source": [
    "TEST_SIZE = 50\n",
    "test_df = pd.DataFrame(columns=df.columns)\n",
    "\n",
    "for i in range(2):\n",
    "    temp_df = df[df['label_encoded'] == i]\n",
    "    temp_df = temp_df.sample(TEST_SIZE)\n",
    "\n",
    "    test_df = test_df.append(temp_df, ignore_index=True)\n",
    "\n",
    "test_df"
   ]
  },
  {
   "cell_type": "code",
   "execution_count": 15,
   "metadata": {},
   "outputs": [
    {
     "output_type": "execute_result",
     "data": {
      "text/plain": "        filename     label                           path  label_encoded\n1       05_g.jpg  glaucoma          HRF_GLAUCOMA/05_g.jpg              1\n2       14_g.jpg  glaucoma          HRF_GLAUCOMA/14_g.jpg              1\n3       01_g.jpg  glaucoma          HRF_GLAUCOMA/01_g.jpg              1\n4       06_g.jpg  glaucoma          HRF_GLAUCOMA/06_g.jpg              1\n5       04_g.jpg  glaucoma          HRF_GLAUCOMA/04_g.jpg              1\n...          ...       ...                            ...            ...\n1069  NL_220.png    normal  kaggle_ds/1_normal/NL_220.png              0\n1071  NL_154.png    normal  kaggle_ds/1_normal/NL_154.png              0\n1072  NL_002.png    normal  kaggle_ds/1_normal/NL_002.png              0\n1073  NL_080.png    normal  kaggle_ds/1_normal/NL_080.png              0\n1074  NL_066.png    normal  kaggle_ds/1_normal/NL_066.png              0\n\n[975 rows x 4 columns]",
      "text/html": "<div>\n<style scoped>\n    .dataframe tbody tr th:only-of-type {\n        vertical-align: middle;\n    }\n\n    .dataframe tbody tr th {\n        vertical-align: top;\n    }\n\n    .dataframe thead th {\n        text-align: right;\n    }\n</style>\n<table border=\"1\" class=\"dataframe\">\n  <thead>\n    <tr style=\"text-align: right;\">\n      <th></th>\n      <th>filename</th>\n      <th>label</th>\n      <th>path</th>\n      <th>label_encoded</th>\n    </tr>\n  </thead>\n  <tbody>\n    <tr>\n      <th>1</th>\n      <td>05_g.jpg</td>\n      <td>glaucoma</td>\n      <td>HRF_GLAUCOMA/05_g.jpg</td>\n      <td>1</td>\n    </tr>\n    <tr>\n      <th>2</th>\n      <td>14_g.jpg</td>\n      <td>glaucoma</td>\n      <td>HRF_GLAUCOMA/14_g.jpg</td>\n      <td>1</td>\n    </tr>\n    <tr>\n      <th>3</th>\n      <td>01_g.jpg</td>\n      <td>glaucoma</td>\n      <td>HRF_GLAUCOMA/01_g.jpg</td>\n      <td>1</td>\n    </tr>\n    <tr>\n      <th>4</th>\n      <td>06_g.jpg</td>\n      <td>glaucoma</td>\n      <td>HRF_GLAUCOMA/06_g.jpg</td>\n      <td>1</td>\n    </tr>\n    <tr>\n      <th>5</th>\n      <td>04_g.jpg</td>\n      <td>glaucoma</td>\n      <td>HRF_GLAUCOMA/04_g.jpg</td>\n      <td>1</td>\n    </tr>\n    <tr>\n      <th>...</th>\n      <td>...</td>\n      <td>...</td>\n      <td>...</td>\n      <td>...</td>\n    </tr>\n    <tr>\n      <th>1069</th>\n      <td>NL_220.png</td>\n      <td>normal</td>\n      <td>kaggle_ds/1_normal/NL_220.png</td>\n      <td>0</td>\n    </tr>\n    <tr>\n      <th>1071</th>\n      <td>NL_154.png</td>\n      <td>normal</td>\n      <td>kaggle_ds/1_normal/NL_154.png</td>\n      <td>0</td>\n    </tr>\n    <tr>\n      <th>1072</th>\n      <td>NL_002.png</td>\n      <td>normal</td>\n      <td>kaggle_ds/1_normal/NL_002.png</td>\n      <td>0</td>\n    </tr>\n    <tr>\n      <th>1073</th>\n      <td>NL_080.png</td>\n      <td>normal</td>\n      <td>kaggle_ds/1_normal/NL_080.png</td>\n      <td>0</td>\n    </tr>\n    <tr>\n      <th>1074</th>\n      <td>NL_066.png</td>\n      <td>normal</td>\n      <td>kaggle_ds/1_normal/NL_066.png</td>\n      <td>0</td>\n    </tr>\n  </tbody>\n</table>\n<p>975 rows × 4 columns</p>\n</div>"
     },
     "metadata": {},
     "execution_count": 15
    }
   ],
   "source": [
    "train_df = df[~df['path'].isin(test_df['path'])]\n",
    "train_df"
   ]
  },
  {
   "cell_type": "code",
   "execution_count": 16,
   "metadata": {},
   "outputs": [],
   "source": [
    "test_df.to_csv('glaucoma_test.csv', index=False)\n",
    "train_df.to_csv('glaucoma_train.csv', index=False)"
   ]
  },
  {
   "cell_type": "code",
   "execution_count": null,
   "metadata": {},
   "outputs": [],
   "source": []
  }
 ]
}